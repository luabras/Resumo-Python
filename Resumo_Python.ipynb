{
  "nbformat": 4,
  "nbformat_minor": 0,
  "metadata": {
    "colab": {
      "name": "Resumo Python.ipynb",
      "provenance": [],
      "toc_visible": true,
      "authorship_tag": "ABX9TyMZTFa+QUwf6pRsBWNOJ+BW",
      "include_colab_link": true
    },
    "kernelspec": {
      "name": "python3",
      "display_name": "Python 3"
    }
  },
  "cells": [
    {
      "cell_type": "markdown",
      "metadata": {
        "id": "view-in-github",
        "colab_type": "text"
      },
      "source": [
        "<a href=\"https://colab.research.google.com/github/luabras/Resumo-Python/blob/main/Resumo_Python.ipynb\" target=\"_parent\"><img src=\"https://colab.research.google.com/assets/colab-badge.svg\" alt=\"Open In Colab\"/></a>"
      ]
    },
    {
      "cell_type": "markdown",
      "metadata": {
        "id": "DSVlMhPOt71v"
      },
      "source": [
        "# ***Strings***\n",
        "\n",
        "---\n"
      ]
    },
    {
      "cell_type": "code",
      "metadata": {
        "colab": {
          "base_uri": "https://localhost:8080/"
        },
        "id": "qRD7sczE4TA-",
        "outputId": "42f63231-bb90-4d12-8f1d-988bc50ec8a2"
      },
      "source": [
        "a = 'casaco'\n",
        "print(a)"
      ],
      "execution_count": null,
      "outputs": [
        {
          "output_type": "stream",
          "text": [
            "casaco\n"
          ],
          "name": "stdout"
        }
      ]
    },
    {
      "cell_type": "markdown",
      "metadata": {
        "id": "dgpXtXQruM4m"
      },
      "source": [
        "Colocando em maiúsculo"
      ]
    },
    {
      "cell_type": "code",
      "metadata": {
        "colab": {
          "base_uri": "https://localhost:8080/"
        },
        "id": "JoUTTaIsuDHh",
        "outputId": "92fa579d-2c0f-4462-f321-ba678f5dda5d"
      },
      "source": [
        "maiuscula = a.upper()\n",
        "print(a)\n",
        "print(maiuscula)"
      ],
      "execution_count": null,
      "outputs": [
        {
          "output_type": "stream",
          "text": [
            "casaco\n",
            "CASACO\n"
          ],
          "name": "stdout"
        }
      ]
    },
    {
      "cell_type": "markdown",
      "metadata": {
        "id": "gTT_b8wuuNhW"
      },
      "source": [
        "Colocando em minúsculo"
      ]
    },
    {
      "cell_type": "code",
      "metadata": {
        "colab": {
          "base_uri": "https://localhost:8080/"
        },
        "id": "bU5_-Sr2uIpb",
        "outputId": "90a31362-4160-4c1d-f25d-c2e7644c7e8f"
      },
      "source": [
        "minuscula = maiuscula.lower()\n",
        "print(minuscula)"
      ],
      "execution_count": null,
      "outputs": [
        {
          "output_type": "stream",
          "text": [
            "casaco\n"
          ],
          "name": "stdout"
        }
      ]
    },
    {
      "cell_type": "markdown",
      "metadata": {
        "id": "d-lWf6_cuUaG"
      },
      "source": [
        "Primeira letra maiúscula"
      ]
    },
    {
      "cell_type": "code",
      "metadata": {
        "colab": {
          "base_uri": "https://localhost:8080/"
        },
        "id": "YYQjMgCWuUke",
        "outputId": "7491e9f1-0376-44a3-933b-ee6def4cd63b"
      },
      "source": [
        "capital = a.capitalize()\n",
        "print(capital)"
      ],
      "execution_count": null,
      "outputs": [
        {
          "output_type": "stream",
          "text": [
            "Casaco\n"
          ],
          "name": "stdout"
        }
      ]
    },
    {
      "cell_type": "markdown",
      "metadata": {
        "id": "kndJoUaauUtG"
      },
      "source": [
        "Selecionando partes específicas da string"
      ]
    },
    {
      "cell_type": "code",
      "metadata": {
        "colab": {
          "base_uri": "https://localhost:8080/"
        },
        "id": "jNTcnPlGuU02",
        "outputId": "7455dd97-dc4d-4c83-bd88-72bd83b7a058"
      },
      "source": [
        "metadeDaPalavra = a[0:3]      # Não pega o elemento de índice do número após o \":\" | o elemento de índice 3 da string é \"a\"\n",
        "print(metadeDaPalavra)"
      ],
      "execution_count": null,
      "outputs": [
        {
          "output_type": "stream",
          "text": [
            "cas\n"
          ],
          "name": "stdout"
        }
      ]
    },
    {
      "cell_type": "code",
      "metadata": {
        "colab": {
          "base_uri": "https://localhost:8080/"
        },
        "id": "2sSCsYh3uVGm",
        "outputId": "a2328558-1ec1-4750-9d02-534b1d3c89fe"
      },
      "source": [
        "ultimasLetras = a[3:]     # Ao não colocar nada após os \":\", é pegado todos os elementos da frente\n",
        "print(ultimasLetras)"
      ],
      "execution_count": null,
      "outputs": [
        {
          "output_type": "stream",
          "text": [
            "aco\n"
          ],
          "name": "stdout"
        }
      ]
    },
    {
      "cell_type": "markdown",
      "metadata": {
        "id": "etNYy-MMvnpl"
      },
      "source": [
        "Trocando caracteres"
      ]
    },
    {
      "cell_type": "code",
      "metadata": {
        "colab": {
          "base_uri": "https://localhost:8080/"
        },
        "id": "xyUgUirWvoS9",
        "outputId": "6d4699ee-fa39-49d9-a13a-a669cef9bbc1"
      },
      "source": [
        "b = a.replace('aco', 'inha')\n",
        "print(a)\n",
        "print(b)"
      ],
      "execution_count": null,
      "outputs": [
        {
          "output_type": "stream",
          "text": [
            "casaco\n",
            "casinha\n"
          ],
          "name": "stdout"
        }
      ]
    },
    {
      "cell_type": "code",
      "metadata": {
        "colab": {
          "base_uri": "https://localhost:8080/"
        },
        "id": "e4CGkNGRwb-O",
        "outputId": "e99a6ceb-d190-4dbf-b47c-194eb2a8cff5"
      },
      "source": [
        "c = a.replace('o', 'a')\n",
        "print(a)\n",
        "print(c)"
      ],
      "execution_count": null,
      "outputs": [
        {
          "output_type": "stream",
          "text": [
            "casaco\n",
            "casaca\n"
          ],
          "name": "stdout"
        }
      ]
    },
    {
      "cell_type": "markdown",
      "metadata": {
        "id": "nJnuWGpGvoqU"
      },
      "source": [
        "Pesquisando dentro de uma string"
      ]
    },
    {
      "cell_type": "code",
      "metadata": {
        "colab": {
          "base_uri": "https://localhost:8080/"
        },
        "id": "KJZZ_RZ3vpQX",
        "outputId": "deb2c911-3e80-41d9-f0ee-fe62b0364520"
      },
      "source": [
        "c.find('s')     # Retorna o valor da posição de 's'"
      ],
      "execution_count": null,
      "outputs": [
        {
          "output_type": "execute_result",
          "data": {
            "text/plain": [
              "2"
            ]
          },
          "metadata": {
            "tags": []
          },
          "execution_count": 12
        }
      ]
    },
    {
      "cell_type": "code",
      "metadata": {
        "colab": {
          "base_uri": "https://localhost:8080/"
        },
        "id": "LEvsH7bhwsvF",
        "outputId": "768277bd-d5e6-477f-9989-97f315295538"
      },
      "source": [
        "c.find('a')     # Retorna sempre a primeira posição na qual a letra 'a' foi achada (não retorna todas as instâncias de 'a')"
      ],
      "execution_count": null,
      "outputs": [
        {
          "output_type": "execute_result",
          "data": {
            "text/plain": [
              "1"
            ]
          },
          "metadata": {
            "tags": []
          },
          "execution_count": 14
        }
      ]
    },
    {
      "cell_type": "code",
      "metadata": {
        "colab": {
          "base_uri": "https://localhost:8080/"
        },
        "id": "LRylQ2_uw916",
        "outputId": "348b62c9-21d6-42cd-88c3-4909bd07f61f"
      },
      "source": [
        "c.find('b')     # Procurando algo que não existe, retorna -1 (significa que não encontrou o caractere procurado na string)"
      ],
      "execution_count": null,
      "outputs": [
        {
          "output_type": "execute_result",
          "data": {
            "text/plain": [
              "-1"
            ]
          },
          "metadata": {
            "tags": []
          },
          "execution_count": 15
        }
      ]
    },
    {
      "cell_type": "markdown",
      "metadata": {
        "id": "dMT1bnnrxPGU"
      },
      "source": [
        "Verificando tamanho da string"
      ]
    },
    {
      "cell_type": "code",
      "metadata": {
        "colab": {
          "base_uri": "https://localhost:8080/"
        },
        "id": "9DLZcmOLxTRt",
        "outputId": "a3520fbd-9ce3-402f-9d45-37c9f4f9c04c"
      },
      "source": [
        "e = ' casaco '\n",
        "\n",
        "# Espaços em branco contam como caracteres\n",
        "\n",
        "print(len(e))\n",
        "print(len(a))"
      ],
      "execution_count": null,
      "outputs": [
        {
          "output_type": "stream",
          "text": [
            "8\n",
            "6\n"
          ],
          "name": "stdout"
        }
      ]
    },
    {
      "cell_type": "markdown",
      "metadata": {
        "id": "EFTqzA5AxhQM"
      },
      "source": [
        "Removendo espaços em branco"
      ]
    },
    {
      "cell_type": "code",
      "metadata": {
        "colab": {
          "base_uri": "https://localhost:8080/"
        },
        "id": "IyR10cOPxaZ6",
        "outputId": "c19361a5-d621-4071-ba13-886dd8570888"
      },
      "source": [
        "f = e.strip()\n",
        "\n",
        "print(f)\n",
        "print(len(f))"
      ],
      "execution_count": null,
      "outputs": [
        {
          "output_type": "stream",
          "text": [
            "casaco\n",
            "6\n"
          ],
          "name": "stdout"
        }
      ]
    },
    {
      "cell_type": "markdown",
      "metadata": {
        "id": "QfO0fykXyUoT"
      },
      "source": [
        "Usando números"
      ]
    },
    {
      "cell_type": "code",
      "metadata": {
        "colab": {
          "base_uri": "https://localhost:8080/"
        },
        "id": "N2UYuy7txv4I",
        "outputId": "9dec6c57-cb08-44e7-c20d-75445cf80b05"
      },
      "source": [
        "n1 = 14\n",
        "n2 = 16\n",
        "\n",
        "print('Dividindo {n1} por {n2}, o resultado eh: {n1/n2}')\n",
        "\n",
        "print(f'Dividindo {n1} por {n2}, o resultado eh: {n1/n2}')      # Colocando o 'f' na frente, o valor das variaveis entre as {} é mostrado"
      ],
      "execution_count": null,
      "outputs": [
        {
          "output_type": "stream",
          "text": [
            "Dividindo {n1} por {n2}, o resultado eh: {n1/n2}\n",
            "Dividindo 14 por 16, o resultado eh: 0.875\n"
          ],
          "name": "stdout"
        }
      ]
    },
    {
      "cell_type": "markdown",
      "metadata": {
        "id": "OE2miZmbyb4r"
      },
      "source": [
        "# ***Operações Matemáticas***\n",
        "\n",
        "---\n",
        "\n"
      ]
    },
    {
      "cell_type": "code",
      "metadata": {
        "colab": {
          "base_uri": "https://localhost:8080/"
        },
        "id": "ko-cXKElyjQY",
        "outputId": "0f0dbca3-5023-41a0-dc11-405215c356d8"
      },
      "source": [
        "a = 5\n",
        "b = 3\n",
        "print(a, b)"
      ],
      "execution_count": null,
      "outputs": [
        {
          "output_type": "stream",
          "text": [
            "5 3\n"
          ],
          "name": "stdout"
        }
      ]
    },
    {
      "cell_type": "markdown",
      "metadata": {
        "id": "bMzv4CXayqGL"
      },
      "source": [
        "Soma"
      ]
    },
    {
      "cell_type": "code",
      "metadata": {
        "colab": {
          "base_uri": "https://localhost:8080/"
        },
        "id": "jIZGQgg6yowr",
        "outputId": "3ebefedf-0e0a-4d62-9289-6f71394f04a9"
      },
      "source": [
        "print('A adicao eh: ', a+b)"
      ],
      "execution_count": null,
      "outputs": [
        {
          "output_type": "stream",
          "text": [
            "A adicao eh:  8\n"
          ],
          "name": "stdout"
        }
      ]
    },
    {
      "cell_type": "markdown",
      "metadata": {
        "id": "WyChbgyiyrHz"
      },
      "source": [
        "Subtração"
      ]
    },
    {
      "cell_type": "code",
      "metadata": {
        "colab": {
          "base_uri": "https://localhost:8080/"
        },
        "id": "cc3LJqmyyreb",
        "outputId": "fcd10f44-4b20-479a-9a33-fc67fe42dfd5"
      },
      "source": [
        "print('A subtracao eh: ', a-b)"
      ],
      "execution_count": null,
      "outputs": [
        {
          "output_type": "stream",
          "text": [
            "A subtracao eh:  2\n"
          ],
          "name": "stdout"
        }
      ]
    },
    {
      "cell_type": "markdown",
      "metadata": {
        "id": "VdGAu9O_ysy8"
      },
      "source": [
        "Divisão"
      ]
    },
    {
      "cell_type": "code",
      "metadata": {
        "colab": {
          "base_uri": "https://localhost:8080/"
        },
        "id": "OtZ6Q1qeytAc",
        "outputId": "3683e092-a132-49cb-b14a-c4a5f1eb1568"
      },
      "source": [
        "print('A divisao eh: ', a/b)"
      ],
      "execution_count": null,
      "outputs": [
        {
          "output_type": "stream",
          "text": [
            "A divisao eh:  1.6666666666666667\n"
          ],
          "name": "stdout"
        }
      ]
    },
    {
      "cell_type": "markdown",
      "metadata": {
        "id": "d6HHgghSytH0"
      },
      "source": [
        "Multiplicação"
      ]
    },
    {
      "cell_type": "code",
      "metadata": {
        "colab": {
          "base_uri": "https://localhost:8080/"
        },
        "id": "g9f_NLSuytOt",
        "outputId": "2781db80-a7b4-4bfc-c876-af473aa2638c"
      },
      "source": [
        "print('A multiplicacao eh: ', a*b)"
      ],
      "execution_count": null,
      "outputs": [
        {
          "output_type": "stream",
          "text": [
            "A multiplicacao eh:  15\n"
          ],
          "name": "stdout"
        }
      ]
    },
    {
      "cell_type": "markdown",
      "metadata": {
        "id": "bvUEJEl9ytVV"
      },
      "source": [
        "Resto"
      ]
    },
    {
      "cell_type": "code",
      "metadata": {
        "colab": {
          "base_uri": "https://localhost:8080/"
        },
        "id": "jXyRX90Qytbs",
        "outputId": "7a9439cf-6401-41c7-cffd-5eda6206c65b"
      },
      "source": [
        "print('O resto eh: ', a%b)"
      ],
      "execution_count": null,
      "outputs": [
        {
          "output_type": "stream",
          "text": [
            "O resto eh:  2\n"
          ],
          "name": "stdout"
        }
      ]
    },
    {
      "cell_type": "markdown",
      "metadata": {
        "id": "bs4Pbycryti0"
      },
      "source": [
        "Exponenciação"
      ]
    },
    {
      "cell_type": "code",
      "metadata": {
        "colab": {
          "base_uri": "https://localhost:8080/"
        },
        "id": "j-4twMc8ytpc",
        "outputId": "2b0c5c7e-93d2-4604-a4d3-e124a40ffa46"
      },
      "source": [
        "print('5 elevado a 3 eh: ', a**b)"
      ],
      "execution_count": null,
      "outputs": [
        {
          "output_type": "stream",
          "text": [
            "5 elevado a 3 eh:  125\n"
          ],
          "name": "stdout"
        }
      ]
    },
    {
      "cell_type": "markdown",
      "metadata": {
        "id": "j38zmmbTytxU"
      },
      "source": [
        "Raiz quadrada"
      ]
    },
    {
      "cell_type": "code",
      "metadata": {
        "colab": {
          "base_uri": "https://localhost:8080/"
        },
        "id": "7fB8i0cdyt5M",
        "outputId": "849c4149-46d9-4479-9c1c-edcc3e999eb2"
      },
      "source": [
        "import math     # Biblioteca importante para operacoes matematicas mais complexas\n",
        "\n",
        "math.sqrt(81)     # Raiz quadrada de 91"
      ],
      "execution_count": null,
      "outputs": [
        {
          "output_type": "execute_result",
          "data": {
            "text/plain": [
              "9.0"
            ]
          },
          "metadata": {
            "tags": []
          },
          "execution_count": 36
        }
      ]
    },
    {
      "cell_type": "markdown",
      "metadata": {
        "id": "ymOBTHK80Uqa"
      },
      "source": [
        "Arredondamento"
      ]
    },
    {
      "cell_type": "code",
      "metadata": {
        "colab": {
          "base_uri": "https://localhost:8080/"
        },
        "id": "VERYROWe0TAy",
        "outputId": "85d1c233-97aa-44ae-b6ea-2a85aaf1f87b"
      },
      "source": [
        "casosDoenca = 134\n",
        "numeroHabitantes = 34432\n",
        "\n",
        "casosPorHabitante = casosDoenca/numeroHabitantes\n",
        "\n",
        "print(casosPorHabitante)\n",
        "\n",
        "round(casosPorHabitante, 6)     # Arredondamento com 6 casas apos a virgula\n",
        "\n",
        "print('O numero de casos por habitante eh: ', round(casosPorHabitante, 4))    # 4 casa apos a virgula"
      ],
      "execution_count": null,
      "outputs": [
        {
          "output_type": "stream",
          "text": [
            "0.003891728624535316\n",
            "O numero de casos por habitante eh:  0.0039\n"
          ],
          "name": "stdout"
        }
      ]
    },
    {
      "cell_type": "markdown",
      "metadata": {
        "id": "eUZaRSm_1Gcq"
      },
      "source": [
        "# ***Operadores lógicos e relacionais***\n",
        "\n",
        "---\n"
      ]
    },
    {
      "cell_type": "markdown",
      "metadata": {
        "id": "E6UBpWbG1OYZ"
      },
      "source": [
        "### Operadores lógicos"
      ]
    },
    {
      "cell_type": "code",
      "metadata": {
        "colab": {
          "base_uri": "https://localhost:8080/"
        },
        "id": "Eqo9Fx3_1MmR",
        "outputId": "3697863d-299e-487f-a4c7-e942c67f02eb"
      },
      "source": [
        "a = True\n",
        "b = False\n",
        "\n",
        "print(a, b)"
      ],
      "execution_count": null,
      "outputs": [
        {
          "output_type": "stream",
          "text": [
            "True False\n"
          ],
          "name": "stdout"
        }
      ]
    },
    {
      "cell_type": "code",
      "metadata": {
        "colab": {
          "base_uri": "https://localhost:8080/"
        },
        "id": "32eUPAtp2UKD",
        "outputId": "cde180a3-09c7-4ba7-98dd-0c89c34461f6"
      },
      "source": [
        "a and b"
      ],
      "execution_count": null,
      "outputs": [
        {
          "output_type": "execute_result",
          "data": {
            "text/plain": [
              "False"
            ]
          },
          "metadata": {
            "tags": []
          },
          "execution_count": 41
        }
      ]
    },
    {
      "cell_type": "code",
      "metadata": {
        "colab": {
          "base_uri": "https://localhost:8080/"
        },
        "id": "ZLg0gN4c2Wen",
        "outputId": "3f41cf73-8380-4139-9f05-d4838298dd5f"
      },
      "source": [
        "a & b"
      ],
      "execution_count": null,
      "outputs": [
        {
          "output_type": "execute_result",
          "data": {
            "text/plain": [
              "False"
            ]
          },
          "metadata": {
            "tags": []
          },
          "execution_count": 42
        }
      ]
    },
    {
      "cell_type": "code",
      "metadata": {
        "colab": {
          "base_uri": "https://localhost:8080/"
        },
        "id": "iAfEXcfp2cOT",
        "outputId": "8741ab29-6410-4587-ae8f-eb31dd7fd76a"
      },
      "source": [
        "c = a and b\n",
        "\n",
        "print(c)"
      ],
      "execution_count": null,
      "outputs": [
        {
          "output_type": "stream",
          "text": [
            "False\n"
          ],
          "name": "stdout"
        }
      ]
    },
    {
      "cell_type": "code",
      "metadata": {
        "colab": {
          "base_uri": "https://localhost:8080/"
        },
        "id": "7WPPKKUF2hod",
        "outputId": "a2c95bc3-e0d0-4127-ffc3-cc6c30ed20d3"
      },
      "source": [
        "a or b"
      ],
      "execution_count": null,
      "outputs": [
        {
          "output_type": "execute_result",
          "data": {
            "text/plain": [
              "True"
            ]
          },
          "metadata": {
            "tags": []
          },
          "execution_count": 44
        }
      ]
    },
    {
      "cell_type": "code",
      "metadata": {
        "colab": {
          "base_uri": "https://localhost:8080/"
        },
        "id": "n2NBhYFj2xze",
        "outputId": "0b414ad9-c4b5-4609-eced-7ca76f5f53a8"
      },
      "source": [
        "a | b"
      ],
      "execution_count": null,
      "outputs": [
        {
          "output_type": "execute_result",
          "data": {
            "text/plain": [
              "True"
            ]
          },
          "metadata": {
            "tags": []
          },
          "execution_count": 45
        }
      ]
    },
    {
      "cell_type": "code",
      "metadata": {
        "colab": {
          "base_uri": "https://localhost:8080/"
        },
        "id": "Gy3qt3y224JZ",
        "outputId": "48763618-97a4-4d2a-c1a1-083d362d7bd9"
      },
      "source": [
        "d = a or b\n",
        "\n",
        "print(d)"
      ],
      "execution_count": null,
      "outputs": [
        {
          "output_type": "stream",
          "text": [
            "True\n"
          ],
          "name": "stdout"
        }
      ]
    },
    {
      "cell_type": "code",
      "metadata": {
        "colab": {
          "base_uri": "https://localhost:8080/"
        },
        "id": "qReyRDqP3BFd",
        "outputId": "d0c1bddf-1a2e-41a1-86be-8d80dcb57f34"
      },
      "source": [
        "not a"
      ],
      "execution_count": null,
      "outputs": [
        {
          "output_type": "execute_result",
          "data": {
            "text/plain": [
              "False"
            ]
          },
          "metadata": {
            "tags": []
          },
          "execution_count": 48
        }
      ]
    },
    {
      "cell_type": "code",
      "metadata": {
        "colab": {
          "base_uri": "https://localhost:8080/"
        },
        "id": "WmHJPjDj2-FE",
        "outputId": "ae734699-c31d-44c2-a039-a2923c04fe3e"
      },
      "source": [
        "not b"
      ],
      "execution_count": null,
      "outputs": [
        {
          "output_type": "execute_result",
          "data": {
            "text/plain": [
              "True"
            ]
          },
          "metadata": {
            "tags": []
          },
          "execution_count": 49
        }
      ]
    },
    {
      "cell_type": "markdown",
      "metadata": {
        "id": "D1tjqLsT1PZC"
      },
      "source": [
        "### Operadores relacionais"
      ]
    },
    {
      "cell_type": "code",
      "metadata": {
        "colab": {
          "base_uri": "https://localhost:8080/"
        },
        "id": "rNOMdyJT1P3y",
        "outputId": "69128789-c4f6-40fa-83a2-6688d37d0b19"
      },
      "source": [
        "5 > 3"
      ],
      "execution_count": null,
      "outputs": [
        {
          "output_type": "execute_result",
          "data": {
            "text/plain": [
              "True"
            ]
          },
          "metadata": {
            "tags": []
          },
          "execution_count": 51
        }
      ]
    },
    {
      "cell_type": "code",
      "metadata": {
        "colab": {
          "base_uri": "https://localhost:8080/"
        },
        "id": "xgR7bVrs3MO8",
        "outputId": "a56f7cac-9a92-45f8-c936-ca9557ad5419"
      },
      "source": [
        "5 < 3"
      ],
      "execution_count": null,
      "outputs": [
        {
          "output_type": "execute_result",
          "data": {
            "text/plain": [
              "False"
            ]
          },
          "metadata": {
            "tags": []
          },
          "execution_count": 52
        }
      ]
    },
    {
      "cell_type": "code",
      "metadata": {
        "colab": {
          "base_uri": "https://localhost:8080/"
        },
        "id": "duHvljol3Nbl",
        "outputId": "c3178988-781f-476d-c395-57ec0206bb7f"
      },
      "source": [
        "5 >= 3"
      ],
      "execution_count": null,
      "outputs": [
        {
          "output_type": "execute_result",
          "data": {
            "text/plain": [
              "True"
            ]
          },
          "metadata": {
            "tags": []
          },
          "execution_count": 53
        }
      ]
    },
    {
      "cell_type": "code",
      "metadata": {
        "colab": {
          "base_uri": "https://localhost:8080/"
        },
        "id": "WAvyBngc3PEl",
        "outputId": "cc5a2ebe-dafa-4466-a5ec-c51bad07fa87"
      },
      "source": [
        "5 >= 5"
      ],
      "execution_count": null,
      "outputs": [
        {
          "output_type": "execute_result",
          "data": {
            "text/plain": [
              "True"
            ]
          },
          "metadata": {
            "tags": []
          },
          "execution_count": 54
        }
      ]
    },
    {
      "cell_type": "code",
      "metadata": {
        "colab": {
          "base_uri": "https://localhost:8080/"
        },
        "id": "4YJBb8-P3Rvn",
        "outputId": "4937708d-02f3-4262-cd6b-fd3a2ce77cfe"
      },
      "source": [
        "5 > 5"
      ],
      "execution_count": null,
      "outputs": [
        {
          "output_type": "execute_result",
          "data": {
            "text/plain": [
              "False"
            ]
          },
          "metadata": {
            "tags": []
          },
          "execution_count": 55
        }
      ]
    },
    {
      "cell_type": "code",
      "metadata": {
        "colab": {
          "base_uri": "https://localhost:8080/"
        },
        "id": "p-Bzcu5N3TzQ",
        "outputId": "cb6c76de-cea9-48f2-f27b-09a23ed612ad"
      },
      "source": [
        "5 <= 3"
      ],
      "execution_count": null,
      "outputs": [
        {
          "output_type": "execute_result",
          "data": {
            "text/plain": [
              "False"
            ]
          },
          "metadata": {
            "tags": []
          },
          "execution_count": 56
        }
      ]
    },
    {
      "cell_type": "code",
      "metadata": {
        "colab": {
          "base_uri": "https://localhost:8080/"
        },
        "id": "FODwInxY3VRA",
        "outputId": "54af4876-e7d7-4377-fbeb-cdde7349cb0b"
      },
      "source": [
        "5 == 3"
      ],
      "execution_count": null,
      "outputs": [
        {
          "output_type": "execute_result",
          "data": {
            "text/plain": [
              "False"
            ]
          },
          "metadata": {
            "tags": []
          },
          "execution_count": 57
        }
      ]
    },
    {
      "cell_type": "code",
      "metadata": {
        "colab": {
          "base_uri": "https://localhost:8080/"
        },
        "id": "dOJy_od63ZSD",
        "outputId": "4dc19020-eac0-445c-cc24-0fd70355a0eb"
      },
      "source": [
        "5 != 3"
      ],
      "execution_count": null,
      "outputs": [
        {
          "output_type": "execute_result",
          "data": {
            "text/plain": [
              "True"
            ]
          },
          "metadata": {
            "tags": []
          },
          "execution_count": 58
        }
      ]
    },
    {
      "cell_type": "markdown",
      "metadata": {
        "id": "D3_OutrY1RQr"
      },
      "source": [
        "# ***Operadores condicionais***\n",
        "\n",
        "---\n",
        "\n"
      ]
    },
    {
      "cell_type": "markdown",
      "metadata": {
        "id": "GuYnapbr1T9r"
      },
      "source": [
        "Condicional If"
      ]
    },
    {
      "cell_type": "code",
      "metadata": {
        "colab": {
          "base_uri": "https://localhost:8080/"
        },
        "id": "HAC2tRzz1UaD",
        "outputId": "915a0b4b-0b9b-4534-82bd-3fe73b8358bb"
      },
      "source": [
        "if 5 > 3:\n",
        "  print('5 eh maior que 3')\n",
        "\n",
        "else:\n",
        "  print('eh mentira')"
      ],
      "execution_count": null,
      "outputs": [
        {
          "output_type": "stream",
          "text": [
            "5 eh maior que 3\n"
          ],
          "name": "stdout"
        }
      ]
    },
    {
      "cell_type": "code",
      "metadata": {
        "colab": {
          "base_uri": "https://localhost:8080/"
        },
        "id": "ZuDF52ED1Uts",
        "outputId": "9354c847-dcb9-4b96-9e01-3bbd2212568f"
      },
      "source": [
        "if 5 > 6:\n",
        "  print('5 eh maior')\n",
        "\n",
        "else:\n",
        "  print('5 nao eh maior')"
      ],
      "execution_count": null,
      "outputs": [
        {
          "output_type": "stream",
          "text": [
            "5 nao eh maior\n"
          ],
          "name": "stdout"
        }
      ]
    },
    {
      "cell_type": "code",
      "metadata": {
        "colab": {
          "base_uri": "https://localhost:8080/"
        },
        "id": "EAyQvstH1U69",
        "outputId": "5efe4011-a594-45d5-94b6-69e497c08304"
      },
      "source": [
        "n = 3\n",
        "\n",
        "if n == 4:\n",
        "  print('n eh igual a 4')\n",
        "\n",
        "else:\n",
        "  \n",
        "  if n == 3:\n",
        "    print('n eh igual a 3')\n",
        "\n",
        "  else:\n",
        "    print('n nao eh igual a 4 ou a 3')"
      ],
      "execution_count": null,
      "outputs": [
        {
          "output_type": "stream",
          "text": [
            "n eh igual a 3\n"
          ],
          "name": "stdout"
        }
      ]
    },
    {
      "cell_type": "code",
      "metadata": {
        "colab": {
          "base_uri": "https://localhost:8080/"
        },
        "id": "RFC9kBcx6v_H",
        "outputId": "72aa6e0d-c978-4983-92fc-d86645326bd9"
      },
      "source": [
        "x = 2\n",
        "y = 3\n",
        "\n",
        "if (x > 1) and (y % 2 == 0):\n",
        "  print('x eh maior que 1 e y eh par')\n",
        "\n",
        "else:\n",
        "  print('uma ou nenhuma das condicoes foram satisfeitas')"
      ],
      "execution_count": null,
      "outputs": [
        {
          "output_type": "stream",
          "text": [
            "uma ou nenhuma das condicoes foram satisfeitas\n"
          ],
          "name": "stdout"
        }
      ]
    },
    {
      "cell_type": "markdown",
      "metadata": {
        "id": "Pc7E8bS81Voq"
      },
      "source": [
        "# ***Estruturas de repetição***\n",
        "\n",
        "---\n",
        "\n"
      ]
    },
    {
      "cell_type": "markdown",
      "metadata": {
        "id": "QmSJ-T2t1Wer"
      },
      "source": [
        "For"
      ]
    },
    {
      "cell_type": "code",
      "metadata": {
        "colab": {
          "base_uri": "https://localhost:8080/"
        },
        "id": "Cdk1fant1Wur",
        "outputId": "22fd4716-15d1-4372-9679-a560c0b4f696"
      },
      "source": [
        "for numero in range(1, 5):\n",
        "  print(numero)"
      ],
      "execution_count": null,
      "outputs": [
        {
          "output_type": "stream",
          "text": [
            "1\n",
            "2\n",
            "3\n",
            "4\n"
          ],
          "name": "stdout"
        }
      ]
    },
    {
      "cell_type": "code",
      "metadata": {
        "colab": {
          "base_uri": "https://localhost:8080/"
        },
        "id": "dWPPmat57sVz",
        "outputId": "14664490-1f31-419c-8251-c6c05f5886ec"
      },
      "source": [
        "for numero in range(1, 6):\n",
        "  print(numero)"
      ],
      "execution_count": null,
      "outputs": [
        {
          "output_type": "stream",
          "text": [
            "1\n",
            "2\n",
            "3\n",
            "4\n",
            "5\n"
          ],
          "name": "stdout"
        }
      ]
    },
    {
      "cell_type": "code",
      "metadata": {
        "colab": {
          "base_uri": "https://localhost:8080/"
        },
        "id": "eLfOcplU7xtF",
        "outputId": "ec2b242e-b58e-4f3f-df24-67f4d8dec52a"
      },
      "source": [
        "for numero in range(5, 0, -1):    # Comeca no 5, vai ate 1 (0, pois o ultimo numero nunca entra na conta) diminuindo -1\n",
        "  print(numero)"
      ],
      "execution_count": null,
      "outputs": [
        {
          "output_type": "stream",
          "text": [
            "5\n",
            "4\n",
            "3\n",
            "2\n",
            "1\n"
          ],
          "name": "stdout"
        }
      ]
    },
    {
      "cell_type": "code",
      "metadata": {
        "colab": {
          "base_uri": "https://localhost:8080/"
        },
        "id": "eDjl30f-7_ZN",
        "outputId": "80a87f52-40b0-4626-a6b4-b4febaeddeb5"
      },
      "source": [
        "# Somatorio de 1 ate 5\n",
        "\n",
        "soma = 0\n",
        "\n",
        "for numero in range(1, 6):\n",
        "  soma = soma + numero\n",
        "\n",
        "print(soma)"
      ],
      "execution_count": null,
      "outputs": [
        {
          "output_type": "stream",
          "text": [
            "15\n"
          ],
          "name": "stdout"
        }
      ]
    },
    {
      "cell_type": "code",
      "metadata": {
        "colab": {
          "base_uri": "https://localhost:8080/"
        },
        "id": "8xdgBkve8hGW",
        "outputId": "dc7d016b-9297-47e9-e33e-e391bc4d5189"
      },
      "source": [
        "palavra = 'sorvete'\n",
        "\n",
        "for letra in palavra:\n",
        "  print(letra)\n",
        "\n",
        "  # verificar se existe a letra 'v' na string\n",
        "  if letra == 'v':\n",
        "    print('achou a letra v')"
      ],
      "execution_count": null,
      "outputs": [
        {
          "output_type": "stream",
          "text": [
            "s\n",
            "o\n",
            "r\n",
            "v\n",
            "achou a letra v\n",
            "e\n",
            "t\n",
            "e\n"
          ],
          "name": "stdout"
        }
      ]
    },
    {
      "cell_type": "code",
      "metadata": {
        "colab": {
          "base_uri": "https://localhost:8080/"
        },
        "id": "-G3E-xuc778r",
        "outputId": "e30a6d38-2917-4f18-cac6-4c83b227494a"
      },
      "source": [
        "for i in range(0, 5):\n",
        "  print(i)\n",
        "  print('---')\n",
        "  \n",
        "  for j in range(0,3):      # a cada iteracao de 'i', eh contado de 0 a 2 com o 'j'\n",
        "    print(j)\n",
        "\n",
        "  print()     # dando um espaco para melhor visualizacao\n",
        "\n",
        "  # o numero acima de --- representa o valor de 'i', e os numeros abaixo de --- representam os valores de 'j'"
      ],
      "execution_count": null,
      "outputs": [
        {
          "output_type": "stream",
          "text": [
            "0\n",
            "---\n",
            "0\n",
            "1\n",
            "2\n",
            "\n",
            "1\n",
            "---\n",
            "0\n",
            "1\n",
            "2\n",
            "\n",
            "2\n",
            "---\n",
            "0\n",
            "1\n",
            "2\n",
            "\n",
            "3\n",
            "---\n",
            "0\n",
            "1\n",
            "2\n",
            "\n",
            "4\n",
            "---\n",
            "0\n",
            "1\n",
            "2\n",
            "\n"
          ],
          "name": "stdout"
        }
      ]
    },
    {
      "cell_type": "markdown",
      "metadata": {
        "id": "Yfky9Lhf1W10"
      },
      "source": [
        "While"
      ]
    },
    {
      "cell_type": "code",
      "metadata": {
        "colab": {
          "base_uri": "https://localhost:8080/"
        },
        "id": "tqAB4QP51W8z",
        "outputId": "e704f61a-b77d-4f9e-ea93-8afbe8a87f33"
      },
      "source": [
        "numero = 1\n",
        "\n",
        "while numero < 6:\n",
        "  print(numero)\n",
        "  numero = numero + 1"
      ],
      "execution_count": null,
      "outputs": [
        {
          "output_type": "stream",
          "text": [
            "1\n",
            "2\n",
            "3\n",
            "4\n",
            "5\n"
          ],
          "name": "stdout"
        }
      ]
    },
    {
      "cell_type": "code",
      "metadata": {
        "colab": {
          "base_uri": "https://localhost:8080/"
        },
        "id": "QKzxNY_3-pAC",
        "outputId": "c7a11f5f-82c6-4f44-d8f7-f563469bd592"
      },
      "source": [
        "numero = 5\n",
        "\n",
        "while numero > 0:\n",
        "  print(numero)\n",
        "  numero -= 1"
      ],
      "execution_count": null,
      "outputs": [
        {
          "output_type": "stream",
          "text": [
            "5\n",
            "4\n",
            "3\n",
            "2\n",
            "1\n"
          ],
          "name": "stdout"
        }
      ]
    },
    {
      "cell_type": "code",
      "metadata": {
        "colab": {
          "base_uri": "https://localhost:8080/"
        },
        "id": "iVQfFgC84hPo",
        "outputId": "96fb22b1-de55-4c09-8d40-6f609fba1997"
      },
      "source": [
        "# Somatorio de 1 ate 5\n",
        "\n",
        "soma = 0\n",
        "numero = 1\n",
        "\n",
        "while numero < 6:\n",
        "  soma = soma + numero\n",
        "  numero += 1\n",
        "\n",
        "print(soma)"
      ],
      "execution_count": null,
      "outputs": [
        {
          "output_type": "stream",
          "text": [
            "15\n"
          ],
          "name": "stdout"
        }
      ]
    },
    {
      "cell_type": "code",
      "metadata": {
        "colab": {
          "base_uri": "https://localhost:8080/"
        },
        "id": "7izDqpSI_gRM",
        "outputId": "b61c9268-66b0-4c7c-c867-dc1ff748d104"
      },
      "source": [
        "numero = -1\n",
        "\n",
        "while numero < 1 or numero > 10:\n",
        "  numero = int(input('Digite um numero de 1 a 10: '))"
      ],
      "execution_count": null,
      "outputs": [
        {
          "output_type": "stream",
          "text": [
            "Digite um numero de 1 a 10: 11\n",
            "Digite um numero de 1 a 10: -4\n",
            "Digite um numero de 1 a 10: 12\n",
            "Digite um numero de 1 a 10: 0\n",
            "Digite um numero de 1 a 10: 5\n"
          ],
          "name": "stdout"
        }
      ]
    },
    {
      "cell_type": "markdown",
      "metadata": {
        "id": "Oy3DaVQwIuOm"
      },
      "source": [
        "# Diferenças entre Tuplas, Listas e Dicionários \n",
        "\n",
        "*   Tuplas são definidas por parênteses ( )\n",
        "*   Listas por colchetes [ ]\n",
        "*   Dicionários são definidos por chaves { }\n",
        "\n"
      ]
    },
    {
      "cell_type": "markdown",
      "metadata": {
        "id": "DKt3sRdy4jxn"
      },
      "source": [
        "# ***Tuplas***\n",
        "\n",
        "---\n",
        "\n"
      ]
    },
    {
      "cell_type": "code",
      "metadata": {
        "colab": {
          "base_uri": "https://localhost:8080/"
        },
        "id": "kE3IJQ4b4rZX",
        "outputId": "1e7ccefc-99aa-4bb6-8fcc-a353b2ddf3bf"
      },
      "source": [
        "tupla = ('Homo sapiens', 'Canis familiaris', 'Felis catus')\n",
        "\n",
        "tupla"
      ],
      "execution_count": null,
      "outputs": [
        {
          "output_type": "execute_result",
          "data": {
            "text/plain": [
              "('Homo sapiens', 'Canis familiaris', 'Felis catus')"
            ]
          },
          "metadata": {
            "tags": []
          },
          "execution_count": 87
        }
      ]
    },
    {
      "cell_type": "code",
      "metadata": {
        "colab": {
          "base_uri": "https://localhost:8080/",
          "height": 35
        },
        "id": "IFsvDfLQGeDz",
        "outputId": "544bdcef-2e93-41cf-9af4-58ca5a808f75"
      },
      "source": [
        "tupla[0]"
      ],
      "execution_count": null,
      "outputs": [
        {
          "output_type": "execute_result",
          "data": {
            "application/vnd.google.colaboratory.intrinsic+json": {
              "type": "string"
            },
            "text/plain": [
              "'Homo sapiens'"
            ]
          },
          "metadata": {
            "tags": []
          },
          "execution_count": 88
        }
      ]
    },
    {
      "cell_type": "code",
      "metadata": {
        "colab": {
          "base_uri": "https://localhost:8080/",
          "height": 35
        },
        "id": "i2GRDJDYGf5M",
        "outputId": "0c21f5bc-c050-4c99-e570-fdde6ce14f40"
      },
      "source": [
        "tupla[1]"
      ],
      "execution_count": null,
      "outputs": [
        {
          "output_type": "execute_result",
          "data": {
            "application/vnd.google.colaboratory.intrinsic+json": {
              "type": "string"
            },
            "text/plain": [
              "'Canis familiaris'"
            ]
          },
          "metadata": {
            "tags": []
          },
          "execution_count": 89
        }
      ]
    },
    {
      "cell_type": "code",
      "metadata": {
        "colab": {
          "base_uri": "https://localhost:8080/",
          "height": 35
        },
        "id": "IIzwPSGmGimF",
        "outputId": "a03b2dcc-c2a7-46d7-9f10-c132e5be9099"
      },
      "source": [
        "tupla[2]"
      ],
      "execution_count": null,
      "outputs": [
        {
          "output_type": "execute_result",
          "data": {
            "application/vnd.google.colaboratory.intrinsic+json": {
              "type": "string"
            },
            "text/plain": [
              "'Felis catus'"
            ]
          },
          "metadata": {
            "tags": []
          },
          "execution_count": 90
        }
      ]
    },
    {
      "cell_type": "code",
      "metadata": {
        "colab": {
          "base_uri": "https://localhost:8080/"
        },
        "id": "DWDCmQadGjRm",
        "outputId": "dd852cd6-f8fe-4c8a-9806-42bca174f73e"
      },
      "source": [
        "tupla.index('Canis familiaris')     # verificando indice"
      ],
      "execution_count": null,
      "outputs": [
        {
          "output_type": "execute_result",
          "data": {
            "text/plain": [
              "1"
            ]
          },
          "metadata": {
            "tags": []
          },
          "execution_count": 91
        }
      ]
    },
    {
      "cell_type": "markdown",
      "metadata": {
        "id": "iXge_Z4nGzPf"
      },
      "source": [
        "Percorrendo os elementos"
      ]
    },
    {
      "cell_type": "code",
      "metadata": {
        "colab": {
          "base_uri": "https://localhost:8080/"
        },
        "id": "kNl6LXfBGy6I",
        "outputId": "5bb478ad-653f-4f9d-d8e4-f2a12ad474eb"
      },
      "source": [
        "for elemento in tupla:\n",
        "  print(elemento)"
      ],
      "execution_count": null,
      "outputs": [
        {
          "output_type": "stream",
          "text": [
            "Homo sapiens\n",
            "Canis familiaris\n",
            "Felis catus\n"
          ],
          "name": "stdout"
        }
      ]
    },
    {
      "cell_type": "markdown",
      "metadata": {
        "id": "QUBbxEyQ4rtH"
      },
      "source": [
        "# ***Listas***\n",
        "\n",
        "---\n",
        "\n"
      ]
    },
    {
      "cell_type": "code",
      "metadata": {
        "colab": {
          "base_uri": "https://localhost:8080/"
        },
        "id": "bR9M-7Kj4sO3",
        "outputId": "71a5df1a-04c5-45e7-b07a-efdbbb9e77ab"
      },
      "source": [
        "l1 = ['Homo sapiens', 'Canis familiaris', 'Felis catus']\n",
        "l2 = ['Xenopus laevis', 'Ailuropoda melanoleuca']\n",
        "\n",
        "print(l1)\n",
        "print(l2)"
      ],
      "execution_count": null,
      "outputs": [
        {
          "output_type": "stream",
          "text": [
            "['Homo sapiens', 'Canis familiaris', 'Felis catus']\n",
            "['Xenopus laevis', 'Ailuropoda melanoleuca']\n"
          ],
          "name": "stdout"
        }
      ]
    },
    {
      "cell_type": "markdown",
      "metadata": {
        "id": "L4v8138gHSqk"
      },
      "source": [
        "Juntando listas"
      ]
    },
    {
      "cell_type": "code",
      "metadata": {
        "colab": {
          "base_uri": "https://localhost:8080/"
        },
        "id": "Glh5orQ_HR5X",
        "outputId": "d11ff3e0-d2ce-4412-ffc3-e24a328c34ae"
      },
      "source": [
        "l3 = l1 + l2\n",
        "\n",
        "print(l3)"
      ],
      "execution_count": null,
      "outputs": [
        {
          "output_type": "stream",
          "text": [
            "['Homo sapiens', 'Canis familiaris', 'Felis catus', 'Xenopus laevis', 'Ailuropoda melanoleuca']\n"
          ],
          "name": "stdout"
        }
      ]
    },
    {
      "cell_type": "markdown",
      "metadata": {
        "id": "kTQgV5OVHbVf"
      },
      "source": [
        "Multiplicando listas"
      ]
    },
    {
      "cell_type": "code",
      "metadata": {
        "colab": {
          "base_uri": "https://localhost:8080/"
        },
        "id": "AuE9F9teHM2M",
        "outputId": "1afca68e-9105-44d8-a70f-3d00cf82ed60"
      },
      "source": [
        "l2_2 = l2 * 2\n",
        "\n",
        "print(l2_2)"
      ],
      "execution_count": null,
      "outputs": [
        {
          "output_type": "stream",
          "text": [
            "['Xenopus laevis', 'Ailuropoda melanoleuca', 'Xenopus laevis', 'Ailuropoda melanoleuca']\n"
          ],
          "name": "stdout"
        }
      ]
    },
    {
      "cell_type": "markdown",
      "metadata": {
        "id": "N-_N_30sHt4_"
      },
      "source": [
        "Acessando elementos"
      ]
    },
    {
      "cell_type": "code",
      "metadata": {
        "colab": {
          "base_uri": "https://localhost:8080/"
        },
        "id": "-pkvWy2HHjcI",
        "outputId": "82b720fc-48ab-4af2-b1fb-e18ac854830a"
      },
      "source": [
        "print(l1[0])\n",
        "\n",
        "print(l1[0:2])\n",
        "\n",
        "print(l1[0:])"
      ],
      "execution_count": null,
      "outputs": [
        {
          "output_type": "stream",
          "text": [
            "Homo sapiens\n",
            "['Homo sapiens', 'Canis familiaris']\n",
            "['Homo sapiens', 'Canis familiaris', 'Felis catus']\n"
          ],
          "name": "stdout"
        }
      ]
    },
    {
      "cell_type": "markdown",
      "metadata": {
        "id": "pYl8SQFX4s2H"
      },
      "source": [
        "Adicionando elementos a uma lista"
      ]
    },
    {
      "cell_type": "code",
      "metadata": {
        "colab": {
          "base_uri": "https://localhost:8080/"
        },
        "id": "YFs1AA9K4tIn",
        "outputId": "03519409-713a-480e-a9f0-5ea7953bd655"
      },
      "source": [
        "l1.append('Gorila gorila')\n",
        "\n",
        "print(l1)"
      ],
      "execution_count": null,
      "outputs": [
        {
          "output_type": "stream",
          "text": [
            "['Homo sapiens', 'Canis familiaris', 'Felis catus', 'Gorila gorila']\n"
          ],
          "name": "stdout"
        }
      ]
    },
    {
      "cell_type": "markdown",
      "metadata": {
        "id": "ugA7UYO9IHMu"
      },
      "source": [
        "Removendo elementos"
      ]
    },
    {
      "cell_type": "code",
      "metadata": {
        "colab": {
          "base_uri": "https://localhost:8080/"
        },
        "id": "JysSF797IFj5",
        "outputId": "c1b64906-0028-4aa8-975e-23d8008098d5"
      },
      "source": [
        "l1.remove('Felis catus')\n",
        "\n",
        "print(l1)"
      ],
      "execution_count": null,
      "outputs": [
        {
          "output_type": "stream",
          "text": [
            "['Homo sapiens', 'Canis familiaris', 'Gorila gorila']\n"
          ],
          "name": "stdout"
        }
      ]
    },
    {
      "cell_type": "markdown",
      "metadata": {
        "id": "ePnVgADlIND-"
      },
      "source": [
        "Apagando uma lista"
      ]
    },
    {
      "cell_type": "code",
      "metadata": {
        "colab": {
          "base_uri": "https://localhost:8080/",
          "height": 197
        },
        "id": "yY-kqjD1INYT",
        "outputId": "00b51cbf-ffbf-4629-b4f8-99fd0255f739"
      },
      "source": [
        "del(l1)\n",
        "\n",
        "print(l1)"
      ],
      "execution_count": null,
      "outputs": [
        {
          "output_type": "error",
          "ename": "NameError",
          "evalue": "ignored",
          "traceback": [
            "\u001b[0;31m---------------------------------------------------------------------------\u001b[0m",
            "\u001b[0;31mNameError\u001b[0m                                 Traceback (most recent call last)",
            "\u001b[0;32m<ipython-input-100-14093edaaca5>\u001b[0m in \u001b[0;36m<module>\u001b[0;34m()\u001b[0m\n\u001b[1;32m      1\u001b[0m \u001b[0;32mdel\u001b[0m\u001b[0;34m(\u001b[0m\u001b[0ml1\u001b[0m\u001b[0;34m)\u001b[0m\u001b[0;34m\u001b[0m\u001b[0;34m\u001b[0m\u001b[0m\n\u001b[1;32m      2\u001b[0m \u001b[0;34m\u001b[0m\u001b[0m\n\u001b[0;32m----> 3\u001b[0;31m \u001b[0mprint\u001b[0m\u001b[0;34m(\u001b[0m\u001b[0ml1\u001b[0m\u001b[0;34m)\u001b[0m\u001b[0;34m\u001b[0m\u001b[0;34m\u001b[0m\u001b[0m\n\u001b[0m",
            "\u001b[0;31mNameError\u001b[0m: name 'l1' is not defined"
          ]
        }
      ]
    },
    {
      "cell_type": "markdown",
      "metadata": {
        "id": "hdtDN7u9ISc_"
      },
      "source": [
        "Percorrendo uma lista"
      ]
    },
    {
      "cell_type": "code",
      "metadata": {
        "colab": {
          "base_uri": "https://localhost:8080/"
        },
        "id": "6NruRjxLIS42",
        "outputId": "531dbaff-7970-4193-831f-478e0f62e765"
      },
      "source": [
        "for item in l2_2:\n",
        "  print(item)"
      ],
      "execution_count": null,
      "outputs": [
        {
          "output_type": "stream",
          "text": [
            "Xenopus laevis\n",
            "Ailuropoda melanoleuca\n",
            "Xenopus laevis\n",
            "Ailuropoda melanoleuca\n"
          ],
          "name": "stdout"
        }
      ]
    },
    {
      "cell_type": "markdown",
      "metadata": {
        "id": "YQ_nB1yf4tg3"
      },
      "source": [
        "# ***Dicionários***\n",
        "\n",
        "---\n",
        "\n"
      ]
    },
    {
      "cell_type": "markdown",
      "metadata": {
        "id": "HjC7Jn4J4yUX"
      },
      "source": [
        ""
      ]
    },
    {
      "cell_type": "code",
      "metadata": {
        "id": "ioAKjD3e4y03"
      },
      "source": [
        "# {'Chaves': valores, 'Chaves': valores, 'Chaves': valores}\n",
        "\n",
        "coleta = {'Aedes aegypt': 32, 'Aedes albopictus': 22, 'Anopheles darlingi': 14}"
      ],
      "execution_count": null,
      "outputs": []
    },
    {
      "cell_type": "code",
      "metadata": {
        "colab": {
          "base_uri": "https://localhost:8080/"
        },
        "id": "zO90dtXSJyB-",
        "outputId": "a3996093-3ecd-46e0-fe29-18ba8f07679b"
      },
      "source": [
        "coleta['Aedes aegypt']"
      ],
      "execution_count": null,
      "outputs": [
        {
          "output_type": "execute_result",
          "data": {
            "text/plain": [
              "32"
            ]
          },
          "metadata": {
            "tags": []
          },
          "execution_count": 103
        }
      ]
    },
    {
      "cell_type": "code",
      "metadata": {
        "colab": {
          "base_uri": "https://localhost:8080/"
        },
        "id": "cSSQ-J2CJ1xy",
        "outputId": "7700c66f-f2e1-48c4-80ed-40f4bd1dc76e"
      },
      "source": [
        "print(coleta)"
      ],
      "execution_count": null,
      "outputs": [
        {
          "output_type": "stream",
          "text": [
            "{'Aedes aegypt': 32, 'Aedes albopictus': 22, 'Anopheles darlingi': 14}\n"
          ],
          "name": "stdout"
        }
      ]
    },
    {
      "cell_type": "code",
      "metadata": {
        "colab": {
          "base_uri": "https://localhost:8080/"
        },
        "id": "48IoqkZaJ3ze",
        "outputId": "3fa1a7f6-a6aa-4bbd-de30-d62765a55a81"
      },
      "source": [
        "print(coleta['Aedes aegypt'])"
      ],
      "execution_count": null,
      "outputs": [
        {
          "output_type": "stream",
          "text": [
            "32\n"
          ],
          "name": "stdout"
        }
      ]
    },
    {
      "cell_type": "markdown",
      "metadata": {
        "id": "NXK2F-eyKZSe"
      },
      "source": [
        "Adicionando elemento ao dicionário"
      ]
    },
    {
      "cell_type": "code",
      "metadata": {
        "colab": {
          "base_uri": "https://localhost:8080/"
        },
        "id": "h-KcxgqIJ6-A",
        "outputId": "b0fdc35d-54c3-418d-b3e6-4218ed2ee565"
      },
      "source": [
        "coleta['Rhodnius montenegrensis'] = 11\n",
        "\n",
        "print(coleta)"
      ],
      "execution_count": null,
      "outputs": [
        {
          "output_type": "stream",
          "text": [
            "{'Aedes aegypt': 32, 'Aedes albopictus': 22, 'Anopheles darlingi': 14, 'Rhodnius montenegrensis': 11}\n"
          ],
          "name": "stdout"
        }
      ]
    },
    {
      "cell_type": "markdown",
      "metadata": {
        "id": "RjuDJqiMKcvv"
      },
      "source": [
        "Removendo elemento do dicionário"
      ]
    },
    {
      "cell_type": "code",
      "metadata": {
        "colab": {
          "base_uri": "https://localhost:8080/"
        },
        "id": "0Q5Bh-EzKNBY",
        "outputId": "992a9e7a-158f-44f6-e011-a8f352170cdf"
      },
      "source": [
        "del(coleta)['Aedes albopictus']\n",
        "\n",
        "print(coleta)"
      ],
      "execution_count": null,
      "outputs": [
        {
          "output_type": "stream",
          "text": [
            "{'Aedes aegypt': 32, 'Anopheles darlingi': 14, 'Rhodnius montenegrensis': 11}\n"
          ],
          "name": "stdout"
        }
      ]
    },
    {
      "cell_type": "code",
      "metadata": {
        "colab": {
          "base_uri": "https://localhost:8080/"
        },
        "id": "-Zmy2UpRKTW8",
        "outputId": "a9ee59e5-a763-4848-cf08-a567dc7ac471"
      },
      "source": [
        "coleta.items()"
      ],
      "execution_count": null,
      "outputs": [
        {
          "output_type": "execute_result",
          "data": {
            "text/plain": [
              "dict_items([('Aedes aegypt', 32), ('Anopheles darlingi', 14), ('Rhodnius montenegrensis', 11)])"
            ]
          },
          "metadata": {
            "tags": []
          },
          "execution_count": 110
        }
      ]
    },
    {
      "cell_type": "markdown",
      "metadata": {
        "id": "tHObpDN5KjQN"
      },
      "source": [
        "Retornando apenas as chaves"
      ]
    },
    {
      "cell_type": "code",
      "metadata": {
        "colab": {
          "base_uri": "https://localhost:8080/"
        },
        "id": "o9G4SJXNKWom",
        "outputId": "189663c9-f8a0-4b3a-f00b-a2749d0fe304"
      },
      "source": [
        "coleta.keys()"
      ],
      "execution_count": null,
      "outputs": [
        {
          "output_type": "execute_result",
          "data": {
            "text/plain": [
              "dict_keys(['Aedes aegypt', 'Anopheles darlingi', 'Rhodnius montenegrensis'])"
            ]
          },
          "metadata": {
            "tags": []
          },
          "execution_count": 111
        }
      ]
    },
    {
      "cell_type": "markdown",
      "metadata": {
        "id": "qBSHnJjCKj1l"
      },
      "source": [
        "Retornando apenas os valores"
      ]
    },
    {
      "cell_type": "code",
      "metadata": {
        "colab": {
          "base_uri": "https://localhost:8080/"
        },
        "id": "FmdypzSVKLVY",
        "outputId": "016b7a56-1b06-4517-f163-4d7b8a6b041f"
      },
      "source": [
        "coleta.values()"
      ],
      "execution_count": null,
      "outputs": [
        {
          "output_type": "execute_result",
          "data": {
            "text/plain": [
              "dict_values([32, 14, 11])"
            ]
          },
          "metadata": {
            "tags": []
          },
          "execution_count": 112
        }
      ]
    },
    {
      "cell_type": "markdown",
      "metadata": {
        "id": "dR9e7I7CKkb1"
      },
      "source": [
        "Juntando dois dicionários"
      ]
    },
    {
      "cell_type": "code",
      "metadata": {
        "colab": {
          "base_uri": "https://localhost:8080/"
        },
        "id": "k1ZHQLC5J8_Y",
        "outputId": "d7494c1a-c9ae-4cd3-b851-d5971bb7f5bd"
      },
      "source": [
        "coleta2 = {'Anopheles gambiae': 13, 'Anopheles deaneorum': 14}\n",
        "\n",
        "coleta.update(coleta2)\n",
        "print(coleta)"
      ],
      "execution_count": null,
      "outputs": [
        {
          "output_type": "stream",
          "text": [
            "{'Aedes aegypt': 32, 'Anopheles darlingi': 14, 'Rhodnius montenegrensis': 11, 'Anopheles gambiae': 13, 'Anopheles deaneorum': 14}\n"
          ],
          "name": "stdout"
        }
      ]
    },
    {
      "cell_type": "markdown",
      "metadata": {
        "id": "Fno54HQvLlIt"
      },
      "source": [
        "Percorrendo um dicionário"
      ]
    },
    {
      "cell_type": "code",
      "metadata": {
        "colab": {
          "base_uri": "https://localhost:8080/"
        },
        "id": "QaE_4VvLLnHa",
        "outputId": "7f670926-69db-4a80-9c3e-18ac971fb942"
      },
      "source": [
        "for especie, numEspecimes in coleta.items():\n",
        "  print(f'Especie: {especie}, numero de especimes coletados: {numEspecimes}')"
      ],
      "execution_count": null,
      "outputs": [
        {
          "output_type": "stream",
          "text": [
            "Especie: Aedes aegypt, numero de especimes coletados: 32\n",
            "Especie: Anopheles darlingi, numero de especimes coletados: 14\n",
            "Especie: Rhodnius montenegrensis, numero de especimes coletados: 11\n",
            "Especie: Anopheles gambiae, numero de especimes coletados: 13\n",
            "Especie: Anopheles deaneorum, numero de especimes coletados: 14\n"
          ],
          "name": "stdout"
        }
      ]
    },
    {
      "cell_type": "markdown",
      "metadata": {
        "id": "1E8d0bgG4zKH"
      },
      "source": [
        "# ***Conjuntos***\n",
        "\n",
        "---\n",
        "\n"
      ]
    },
    {
      "cell_type": "code",
      "metadata": {
        "id": "jQwb_rav4zeH",
        "colab": {
          "base_uri": "https://localhost:8080/"
        },
        "outputId": "04c00e8e-e3be-4f79-e758-869b8f54fa24"
      },
      "source": [
        "biomoleculas = ('proteina', 'acidos_nucleicos', 'carboidrato', 'lipidio', 'acidos_nucleicos', 'carboidrato', 'carboidrato', 'carboidrato')\n",
        "\n",
        "print(biomoleculas)"
      ],
      "execution_count": 1,
      "outputs": [
        {
          "output_type": "stream",
          "text": [
            "('proteina', 'acidos_nucleicos', 'carboidrato', 'lipidio', 'acidos_nucleicos', 'carboidrato', 'carboidrato', 'carboidrato')\n"
          ],
          "name": "stdout"
        }
      ]
    },
    {
      "cell_type": "markdown",
      "metadata": {
        "id": "2BoElLAp5zUY"
      },
      "source": [
        "Conjunto 'set', traz somente os elementos que não se repetem de alguma outra estrutura"
      ]
    },
    {
      "cell_type": "code",
      "metadata": {
        "colab": {
          "base_uri": "https://localhost:8080/"
        },
        "id": "kMVtiusn5onl",
        "outputId": "5f6e19ff-1c7d-4414-d9c7-f74b5e7aaa1e"
      },
      "source": [
        "print(set(biomoleculas))"
      ],
      "execution_count": 2,
      "outputs": [
        {
          "output_type": "stream",
          "text": [
            "{'lipidio', 'proteina', 'acidos_nucleicos', 'carboidrato'}\n"
          ],
          "name": "stdout"
        }
      ]
    },
    {
      "cell_type": "markdown",
      "metadata": {
        "id": "pJ9tu4Xm6CZ_"
      },
      "source": [
        "Pegando a interseção entre duas estruturas"
      ]
    },
    {
      "cell_type": "code",
      "metadata": {
        "colab": {
          "base_uri": "https://localhost:8080/"
        },
        "id": "8L1JwqmN56_y",
        "outputId": "a650efb5-aa50-4a95-c965-602635c110d6"
      },
      "source": [
        "c1 = {1, 2, 3, 4, 5}\n",
        "c2 = {3, 4, 5, 6, 7}\n",
        "\n",
        "c3 = c1.intersection(c2)\n",
        "\n",
        "print(c3)"
      ],
      "execution_count": 4,
      "outputs": [
        {
          "output_type": "stream",
          "text": [
            "{3, 4, 5}\n"
          ],
          "name": "stdout"
        }
      ]
    },
    {
      "cell_type": "markdown",
      "metadata": {
        "id": "TImX1GKk6eEQ"
      },
      "source": [
        "Diferença entre conjuntos"
      ]
    },
    {
      "cell_type": "code",
      "metadata": {
        "colab": {
          "base_uri": "https://localhost:8080/"
        },
        "id": "u6WaJA856YaR",
        "outputId": "35f69e32-00ee-4ebf-e0cc-c079c8dd3981"
      },
      "source": [
        "c1.difference(c2)"
      ],
      "execution_count": 5,
      "outputs": [
        {
          "output_type": "execute_result",
          "data": {
            "text/plain": [
              "{1, 2}"
            ]
          },
          "metadata": {
            "tags": []
          },
          "execution_count": 5
        }
      ]
    },
    {
      "cell_type": "code",
      "metadata": {
        "colab": {
          "base_uri": "https://localhost:8080/"
        },
        "id": "xPFprj6W6oET",
        "outputId": "4e815ad1-568e-49bd-a9b3-53be048d106b"
      },
      "source": [
        "c2.difference(c1)"
      ],
      "execution_count": 6,
      "outputs": [
        {
          "output_type": "execute_result",
          "data": {
            "text/plain": [
              "{6, 7}"
            ]
          },
          "metadata": {
            "tags": []
          },
          "execution_count": 6
        }
      ]
    },
    {
      "cell_type": "markdown",
      "metadata": {
        "id": "ldOdYlZK40Tn"
      },
      "source": [
        "# ***Matrizes***\n",
        "\n",
        "---\n",
        "\n"
      ]
    },
    {
      "cell_type": "markdown",
      "metadata": {
        "id": "O2SK1rjz46gw"
      },
      "source": [
        ""
      ]
    },
    {
      "cell_type": "code",
      "metadata": {
        "id": "nZ5ZG0J0464H"
      },
      "source": [
        "import numpy as np"
      ],
      "execution_count": 8,
      "outputs": []
    },
    {
      "cell_type": "markdown",
      "metadata": {
        "id": "j29ChH-_7QYf"
      },
      "source": [
        "Criando uma matriz de 2 linhas e 3 colunas"
      ]
    },
    {
      "cell_type": "code",
      "metadata": {
        "colab": {
          "base_uri": "https://localhost:8080/"
        },
        "id": "Z_PuEcvS65z5",
        "outputId": "ffcb2e51-874c-47ae-b00b-b6c895caf4d9"
      },
      "source": [
        "matriz = np.array([[2, 3, 1], \n",
        "                   [4, 5, 7]])\n",
        "\n",
        "print(matriz)"
      ],
      "execution_count": 9,
      "outputs": [
        {
          "output_type": "stream",
          "text": [
            "[[2 3 1]\n",
            " [4 5 7]]\n"
          ],
          "name": "stdout"
        }
      ]
    },
    {
      "cell_type": "markdown",
      "metadata": {
        "id": "UGKaTxv67bUv"
      },
      "source": [
        "Pegando formato da matriz"
      ]
    },
    {
      "cell_type": "code",
      "metadata": {
        "colab": {
          "base_uri": "https://localhost:8080/"
        },
        "id": "7BmrtONT7WlB",
        "outputId": "70f6b975-a0c5-448c-a57a-0787d5973641"
      },
      "source": [
        "print(matriz.shape)"
      ],
      "execution_count": 10,
      "outputs": [
        {
          "output_type": "stream",
          "text": [
            "(2, 3)\n"
          ],
          "name": "stdout"
        }
      ]
    },
    {
      "cell_type": "markdown",
      "metadata": {
        "id": "h05Ls9Zv7hM3"
      },
      "source": [
        "### Acessando posições da matriz"
      ]
    },
    {
      "cell_type": "markdown",
      "metadata": {
        "id": "IMfT3Qs-7vwv"
      },
      "source": [
        "Acessando linha 0"
      ]
    },
    {
      "cell_type": "code",
      "metadata": {
        "colab": {
          "base_uri": "https://localhost:8080/"
        },
        "id": "Zm1Z8j4x7fRu",
        "outputId": "5793fee4-9452-4ff5-bf08-6a011a82b702"
      },
      "source": [
        "matriz[0]"
      ],
      "execution_count": 11,
      "outputs": [
        {
          "output_type": "execute_result",
          "data": {
            "text/plain": [
              "array([2, 3, 1])"
            ]
          },
          "metadata": {
            "tags": []
          },
          "execution_count": 11
        }
      ]
    },
    {
      "cell_type": "markdown",
      "metadata": {
        "id": "ni4f2wxX72XP"
      },
      "source": [
        "Acessando linha 1"
      ]
    },
    {
      "cell_type": "code",
      "metadata": {
        "colab": {
          "base_uri": "https://localhost:8080/"
        },
        "id": "PdzwRdv47mXC",
        "outputId": "ef77810a-f9bf-44a4-c775-7edf7f12620b"
      },
      "source": [
        "matriz[1]"
      ],
      "execution_count": 12,
      "outputs": [
        {
          "output_type": "execute_result",
          "data": {
            "text/plain": [
              "array([4, 5, 7])"
            ]
          },
          "metadata": {
            "tags": []
          },
          "execution_count": 12
        }
      ]
    },
    {
      "cell_type": "markdown",
      "metadata": {
        "id": "hMUYCCoA73u3"
      },
      "source": [
        "Acessando elemento da linha 0 e coluna 0"
      ]
    },
    {
      "cell_type": "code",
      "metadata": {
        "colab": {
          "base_uri": "https://localhost:8080/"
        },
        "id": "5ISpauyt7nJK",
        "outputId": "7c9cb618-c88c-4680-fcd0-d7c22a79b28a"
      },
      "source": [
        "matriz[0][0]"
      ],
      "execution_count": 13,
      "outputs": [
        {
          "output_type": "execute_result",
          "data": {
            "text/plain": [
              "2"
            ]
          },
          "metadata": {
            "tags": []
          },
          "execution_count": 13
        }
      ]
    },
    {
      "cell_type": "markdown",
      "metadata": {
        "id": "nQSgRLxW7-r_"
      },
      "source": [
        "Acessando elemento da linha 0 e coluna 1"
      ]
    },
    {
      "cell_type": "code",
      "metadata": {
        "colab": {
          "base_uri": "https://localhost:8080/"
        },
        "id": "BPjcQgcS787m",
        "outputId": "b30bc070-855b-4c1d-839b-90dd194ba257"
      },
      "source": [
        "matriz[0][1]"
      ],
      "execution_count": 14,
      "outputs": [
        {
          "output_type": "execute_result",
          "data": {
            "text/plain": [
              "3"
            ]
          },
          "metadata": {
            "tags": []
          },
          "execution_count": 14
        }
      ]
    },
    {
      "cell_type": "markdown",
      "metadata": {
        "id": "XGGzhyW38PFn"
      },
      "source": [
        "Percorrendo os elementos de uma matriz"
      ]
    },
    {
      "cell_type": "code",
      "metadata": {
        "colab": {
          "base_uri": "https://localhost:8080/"
        },
        "id": "tNIhkAWM8Dl6",
        "outputId": "14b2fb8f-5927-4c38-bbed-9af8eea2115b"
      },
      "source": [
        "# matriz.shape retorna o formato da matriz, no caso da matriz estudada o shape é (2, 3), indicando uma matriz de 2 linhas e 3 colunas\n",
        "\n",
        "# ao acessar matriz.shape[0], estamos acessando o primeiro elemento de shape, ou seja, o 2 (numero de linhas)\n",
        "# em outras palavras estamos acessando as linhas da matriz\n",
        "\n",
        "# ao acessar matriz.shape[1], estamos acessando o segundo elemento de shape, ou seja, o 3 (numero de colunas)\n",
        "# em outras palavras estamos acessando as colunas da matriz\n",
        "\n",
        "for i in range(matriz.shape[0]):\n",
        "  print(matriz[i]) # printando os elementos das linhas\n",
        "\n",
        "  for j in range(matriz.shape[1]):\n",
        "    print(matriz[i][j]) # printando individualmente cada elemento da coluna"
      ],
      "execution_count": 17,
      "outputs": [
        {
          "output_type": "stream",
          "text": [
            "[2 3 1]\n",
            "2\n",
            "3\n",
            "1\n",
            "[4 5 7]\n",
            "4\n",
            "5\n",
            "7\n"
          ],
          "name": "stdout"
        }
      ]
    },
    {
      "cell_type": "markdown",
      "metadata": {
        "id": "0O0ZgqlyMVJs"
      },
      "source": [
        "# ***Bibliotecas úteis***\n",
        "\n",
        "---\n",
        "\n"
      ]
    },
    {
      "cell_type": "markdown",
      "metadata": {
        "id": "5m1GslhNMa1s"
      },
      "source": [
        "### math"
      ]
    },
    {
      "cell_type": "code",
      "metadata": {
        "id": "JAeHv0JjM1fc"
      },
      "source": [
        "import math"
      ],
      "execution_count": 35,
      "outputs": []
    },
    {
      "cell_type": "code",
      "metadata": {
        "colab": {
          "base_uri": "https://localhost:8080/"
        },
        "id": "J_WnswINC0oM",
        "outputId": "acd1a83c-09d1-4766-ab40-6a246ff97403"
      },
      "source": [
        "# raiz quadrada\n",
        "math.sqrt(9)"
      ],
      "execution_count": 36,
      "outputs": [
        {
          "output_type": "execute_result",
          "data": {
            "text/plain": [
              "3.0"
            ]
          },
          "metadata": {
            "tags": []
          },
          "execution_count": 36
        }
      ]
    },
    {
      "cell_type": "code",
      "metadata": {
        "colab": {
          "base_uri": "https://localhost:8080/"
        },
        "id": "OguRTR8GDQIL",
        "outputId": "2d8ea00f-b50a-4fcf-9781-fe44128371c8"
      },
      "source": [
        "# seno\n",
        "math.sin(45)"
      ],
      "execution_count": 37,
      "outputs": [
        {
          "output_type": "execute_result",
          "data": {
            "text/plain": [
              "0.8509035245341184"
            ]
          },
          "metadata": {
            "tags": []
          },
          "execution_count": 37
        }
      ]
    },
    {
      "cell_type": "code",
      "metadata": {
        "colab": {
          "base_uri": "https://localhost:8080/"
        },
        "id": "sjhcG5YCDP17",
        "outputId": "a2aa8b27-1539-4b0f-e323-20a9f84d6970"
      },
      "source": [
        "# cosseno\n",
        "math.cos(45)"
      ],
      "execution_count": 38,
      "outputs": [
        {
          "output_type": "execute_result",
          "data": {
            "text/plain": [
              "0.5253219888177297"
            ]
          },
          "metadata": {
            "tags": []
          },
          "execution_count": 38
        }
      ]
    },
    {
      "cell_type": "code",
      "metadata": {
        "colab": {
          "base_uri": "https://localhost:8080/"
        },
        "id": "IV8J0mLBDQiD",
        "outputId": "62f8b0d6-4d05-418c-a29c-bc471a1c0e4d"
      },
      "source": [
        "# logaritmo (numero, base)\n",
        "math.log(1000, 10)"
      ],
      "execution_count": 39,
      "outputs": [
        {
          "output_type": "execute_result",
          "data": {
            "text/plain": [
              "2.9999999999999996"
            ]
          },
          "metadata": {
            "tags": []
          },
          "execution_count": 39
        }
      ]
    },
    {
      "cell_type": "code",
      "metadata": {
        "colab": {
          "base_uri": "https://localhost:8080/"
        },
        "id": "4nOIUCuSDd9y",
        "outputId": "6cd200df-cd39-49ec-8cc4-69c8572dee29"
      },
      "source": [
        "math.log(32, 2)"
      ],
      "execution_count": 40,
      "outputs": [
        {
          "output_type": "execute_result",
          "data": {
            "text/plain": [
              "5.0"
            ]
          },
          "metadata": {
            "tags": []
          },
          "execution_count": 40
        }
      ]
    },
    {
      "cell_type": "code",
      "metadata": {
        "colab": {
          "base_uri": "https://localhost:8080/"
        },
        "id": "rTbqCV_EDgcz",
        "outputId": "ca900bd4-dc0c-40e0-ad3e-4342119ade60"
      },
      "source": [
        "# ao nao especificar a base, ele usa o numero de euler\n",
        "math.log(1000)"
      ],
      "execution_count": 43,
      "outputs": [
        {
          "output_type": "execute_result",
          "data": {
            "text/plain": [
              "6.907755278982137"
            ]
          },
          "metadata": {
            "tags": []
          },
          "execution_count": 43
        }
      ]
    },
    {
      "cell_type": "code",
      "metadata": {
        "colab": {
          "base_uri": "https://localhost:8080/"
        },
        "id": "cVTPrhxUDnav",
        "outputId": "95bcba90-7f2e-43c7-e530-757a5b822c5f"
      },
      "source": [
        "# numero de euler (constante)\n",
        "math.e"
      ],
      "execution_count": 44,
      "outputs": [
        {
          "output_type": "execute_result",
          "data": {
            "text/plain": [
              "2.718281828459045"
            ]
          },
          "metadata": {
            "tags": []
          },
          "execution_count": 44
        }
      ]
    },
    {
      "cell_type": "code",
      "metadata": {
        "colab": {
          "base_uri": "https://localhost:8080/"
        },
        "id": "kP_b0m8JDqxY",
        "outputId": "c37c25f3-c349-40d3-8331-d1473a109caf"
      },
      "source": [
        "# pi\n",
        "math.pi"
      ],
      "execution_count": 45,
      "outputs": [
        {
          "output_type": "execute_result",
          "data": {
            "text/plain": [
              "3.141592653589793"
            ]
          },
          "metadata": {
            "tags": []
          },
          "execution_count": 45
        }
      ]
    },
    {
      "cell_type": "markdown",
      "metadata": {
        "id": "KJiEyqijMfac"
      },
      "source": [
        "### datetime"
      ]
    },
    {
      "cell_type": "code",
      "metadata": {
        "id": "IAWg6ms4M4as"
      },
      "source": [
        "import datetime"
      ],
      "execution_count": 46,
      "outputs": []
    },
    {
      "cell_type": "code",
      "metadata": {
        "colab": {
          "base_uri": "https://localhost:8080/"
        },
        "id": "SJm2Ji9xD7jh",
        "outputId": "11e2f382-abc5-4208-bdb9-5e303c6b8fa7"
      },
      "source": [
        "# mostrando opcoes da lib\n",
        "dir(datetime)"
      ],
      "execution_count": 47,
      "outputs": [
        {
          "output_type": "execute_result",
          "data": {
            "text/plain": [
              "['MAXYEAR',\n",
              " 'MINYEAR',\n",
              " '__builtins__',\n",
              " '__cached__',\n",
              " '__doc__',\n",
              " '__file__',\n",
              " '__loader__',\n",
              " '__name__',\n",
              " '__package__',\n",
              " '__spec__',\n",
              " 'date',\n",
              " 'datetime',\n",
              " 'datetime_CAPI',\n",
              " 'sys',\n",
              " 'time',\n",
              " 'timedelta',\n",
              " 'timezone',\n",
              " 'tzinfo']"
            ]
          },
          "metadata": {
            "tags": []
          },
          "execution_count": 47
        }
      ]
    },
    {
      "cell_type": "code",
      "metadata": {
        "colab": {
          "base_uri": "https://localhost:8080/"
        },
        "id": "KQl9pUlVEA2E",
        "outputId": "3ed9c434-7484-49be-cf6d-2ab99ce6fbd9"
      },
      "source": [
        "# data de hoje\n",
        "datetime.date.today()"
      ],
      "execution_count": 48,
      "outputs": [
        {
          "output_type": "execute_result",
          "data": {
            "text/plain": [
              "datetime.date(2020, 11, 21)"
            ]
          },
          "metadata": {
            "tags": []
          },
          "execution_count": 48
        }
      ]
    },
    {
      "cell_type": "code",
      "metadata": {
        "colab": {
          "base_uri": "https://localhost:8080/"
        },
        "id": "HUV4UoIkEI8Q",
        "outputId": "2a5077e4-7248-45ec-99b4-06e4a0365326"
      },
      "source": [
        "# hora\n",
        "datetime.datetime.now()"
      ],
      "execution_count": 49,
      "outputs": [
        {
          "output_type": "execute_result",
          "data": {
            "text/plain": [
              "datetime.datetime(2020, 11, 21, 13, 49, 10, 41359)"
            ]
          },
          "metadata": {
            "tags": []
          },
          "execution_count": 49
        }
      ]
    },
    {
      "cell_type": "code",
      "metadata": {
        "colab": {
          "base_uri": "https://localhost:8080/"
        },
        "id": "8Aooguz8EMxq",
        "outputId": "0d5a3eee-2a61-476b-838f-78082eb78e94"
      },
      "source": [
        "# criando variavel no formato data\n",
        "data = datetime.date(2020, 11, 21)\n",
        "\n",
        "print(data)"
      ],
      "execution_count": 50,
      "outputs": [
        {
          "output_type": "stream",
          "text": [
            "2020-11-21\n"
          ],
          "name": "stdout"
        }
      ]
    },
    {
      "cell_type": "code",
      "metadata": {
        "colab": {
          "base_uri": "https://localhost:8080/"
        },
        "id": "6PrLx0ozEg3u",
        "outputId": "7fbe2b3e-10eb-46b6-9554-e86ab7e16fd6"
      },
      "source": [
        "# extraindo elementos da data\n",
        "\n",
        "print(data.day)\n",
        "print(data.month)\n",
        "print(data.year)"
      ],
      "execution_count": 51,
      "outputs": [
        {
          "output_type": "stream",
          "text": [
            "21\n",
            "11\n",
            "2020\n"
          ],
          "name": "stdout"
        }
      ]
    },
    {
      "cell_type": "code",
      "metadata": {
        "colab": {
          "base_uri": "https://localhost:8080/"
        },
        "id": "TylNe1j9Eswk",
        "outputId": "88a5a808-ecc1-44bd-c92e-5eed70ad88f2"
      },
      "source": [
        "# criando variavel de horario (ano, mes, dia, hora, minutos, segundos)\n",
        "horario = datetime.datetime(2020, 11, 21, 7, 30, 0)\n",
        "\n",
        "print(horario)"
      ],
      "execution_count": 52,
      "outputs": [
        {
          "output_type": "stream",
          "text": [
            "2020-11-21 07:30:00\n"
          ],
          "name": "stdout"
        }
      ]
    },
    {
      "cell_type": "code",
      "metadata": {
        "colab": {
          "base_uri": "https://localhost:8080/"
        },
        "id": "RalK0FR4E8Al",
        "outputId": "43290e88-9f52-426b-9e78-5a24d8e389a0"
      },
      "source": [
        "# extraindo elementos individualmente\n",
        "\n",
        "print(horario.hour)\n",
        "print(horario.minute)\n",
        "print(horario.second)"
      ],
      "execution_count": 53,
      "outputs": [
        {
          "output_type": "stream",
          "text": [
            "7\n",
            "30\n",
            "0\n"
          ],
          "name": "stdout"
        }
      ]
    },
    {
      "cell_type": "markdown",
      "metadata": {
        "id": "G3DR3ELaMgfE"
      },
      "source": [
        "### random"
      ]
    },
    {
      "cell_type": "code",
      "metadata": {
        "id": "9gBvo4LWM5Ak"
      },
      "source": [
        "import random"
      ],
      "execution_count": 54,
      "outputs": []
    },
    {
      "cell_type": "code",
      "metadata": {
        "colab": {
          "base_uri": "https://localhost:8080/"
        },
        "id": "1A-aFYvRFfkG",
        "outputId": "727656fd-1dca-4cea-d98e-3c14b9df41a8"
      },
      "source": [
        "# gerando numero aleatorio entre 0 e 1\n",
        "\n",
        "random.random()"
      ],
      "execution_count": 55,
      "outputs": [
        {
          "output_type": "execute_result",
          "data": {
            "text/plain": [
              "0.12159874392754721"
            ]
          },
          "metadata": {
            "tags": []
          },
          "execution_count": 55
        }
      ]
    },
    {
      "cell_type": "code",
      "metadata": {
        "colab": {
          "base_uri": "https://localhost:8080/"
        },
        "id": "9pRrcm6GFobk",
        "outputId": "f3bcf49d-fda0-4d17-fa1a-b2e29de0220a"
      },
      "source": [
        "# gerando numero aleatorio entre 1 e 5\n",
        "\n",
        "random.randint(1, 5)"
      ],
      "execution_count": 56,
      "outputs": [
        {
          "output_type": "execute_result",
          "data": {
            "text/plain": [
              "2"
            ]
          },
          "metadata": {
            "tags": []
          },
          "execution_count": 56
        }
      ]
    },
    {
      "cell_type": "code",
      "metadata": {
        "colab": {
          "base_uri": "https://localhost:8080/"
        },
        "id": "0jhfzps7Fx7R",
        "outputId": "3b23d081-f2af-4b5a-cd8e-a12848cd0152"
      },
      "source": [
        "# gerando numero aleatorio entre 0 e 10 pulando de 2 em 2\n",
        "# as unicas possibilidades sao 0, 2, 4, 6, 8 e 10\n",
        "\n",
        "random.randrange(0, 10, 2)"
      ],
      "execution_count": 57,
      "outputs": [
        {
          "output_type": "execute_result",
          "data": {
            "text/plain": [
              "6"
            ]
          },
          "metadata": {
            "tags": []
          },
          "execution_count": 57
        }
      ]
    },
    {
      "cell_type": "code",
      "metadata": {
        "colab": {
          "base_uri": "https://localhost:8080/"
        },
        "id": "0ulhQuCqGPeo",
        "outputId": "5ba3f17f-ce35-455c-9c82-b48e154c28d7"
      },
      "source": [
        "# gerando numero aleatorio entre 0 e 10 pulando de 3 em 3\n",
        "# as unicas possibilidades sao 0, 3, 6 e 9\n",
        "\n",
        "random.randrange(0, 10, 3)"
      ],
      "execution_count": 59,
      "outputs": [
        {
          "output_type": "execute_result",
          "data": {
            "text/plain": [
              "3"
            ]
          },
          "metadata": {
            "tags": []
          },
          "execution_count": 59
        }
      ]
    },
    {
      "cell_type": "code",
      "metadata": {
        "colab": {
          "base_uri": "https://localhost:8080/"
        },
        "id": "BBB3-7ZAGU0y",
        "outputId": "ecad0019-0fb6-4dcc-83fc-4b39d1d53d07"
      },
      "source": [
        "# criando uma lista\n",
        "\n",
        "x = ['K', 'd', 13, '34-j', 'x']\n",
        "print(x)"
      ],
      "execution_count": 60,
      "outputs": [
        {
          "output_type": "stream",
          "text": [
            "['K', 'd', 13, '34-j', 'x']\n"
          ],
          "name": "stdout"
        }
      ]
    },
    {
      "cell_type": "code",
      "metadata": {
        "colab": {
          "base_uri": "https://localhost:8080/",
          "height": 35
        },
        "id": "rPkIy0ysGuD_",
        "outputId": "56444b95-a2c1-42f3-eeb4-a6f02602c6c0"
      },
      "source": [
        "# escolhendo elemento aleatorio da lista\n",
        "random.choice(x)"
      ],
      "execution_count": 63,
      "outputs": [
        {
          "output_type": "execute_result",
          "data": {
            "application/vnd.google.colaboratory.intrinsic+json": {
              "type": "string"
            },
            "text/plain": [
              "'d'"
            ]
          },
          "metadata": {
            "tags": []
          },
          "execution_count": 63
        }
      ]
    },
    {
      "cell_type": "markdown",
      "metadata": {
        "id": "_slL2-mdMhCU"
      },
      "source": [
        "### time"
      ]
    },
    {
      "cell_type": "code",
      "metadata": {
        "id": "GPg7SbrbM5X7"
      },
      "source": [
        "import time as tm"
      ],
      "execution_count": 64,
      "outputs": []
    },
    {
      "cell_type": "code",
      "metadata": {
        "colab": {
          "base_uri": "https://localhost:8080/"
        },
        "id": "jvDZXFtWG_nQ",
        "outputId": "d387565a-907e-4806-bd70-f41e95d237ef"
      },
      "source": [
        "# retornando tempo atual em segundos\n",
        "tm.time()"
      ],
      "execution_count": 65,
      "outputs": [
        {
          "output_type": "execute_result",
          "data": {
            "text/plain": [
              "1605967318.152514"
            ]
          },
          "metadata": {
            "tags": []
          },
          "execution_count": 65
        }
      ]
    },
    {
      "cell_type": "code",
      "metadata": {
        "colab": {
          "base_uri": "https://localhost:8080/"
        },
        "id": "b4RXV_U7HIS9",
        "outputId": "4a985596-a356-4b0a-cdeb-d2e551dc990c"
      },
      "source": [
        "# medindo quanto um codigo levou para executar\n",
        "\n",
        "antes = tm.time()\n",
        "\n",
        "lista = []\n",
        "\n",
        "for i in range(0, 100000):\n",
        "  lista.append(i)\n",
        "\n",
        "depois = tm.time()\n",
        "\n",
        "intervalo = depois - antes\n",
        "\n",
        "print(f'Tempo de execucao: {intervalo} segundos')"
      ],
      "execution_count": 68,
      "outputs": [
        {
          "output_type": "stream",
          "text": [
            "Tempo de execucao: 0.02081608772277832 segundos\n"
          ],
          "name": "stdout"
        }
      ]
    },
    {
      "cell_type": "code",
      "metadata": {
        "colab": {
          "base_uri": "https://localhost:8080/"
        },
        "id": "5z4tMxedHjuT",
        "outputId": "f41f56bb-6825-4d96-8d60-9c748b97d90a"
      },
      "source": [
        "print('Finalizando...')\n",
        "\n",
        "# sleep(2): espera 2 segundos\n",
        "\n",
        "tm.sleep(2)\n",
        "\n",
        "print('...')\n",
        "\n",
        "tm.sleep(2)\n",
        "\n",
        "print('Xauzu')"
      ],
      "execution_count": 70,
      "outputs": [
        {
          "output_type": "stream",
          "text": [
            "Finalizando...\n",
            "...\n",
            "Xauzu\n"
          ],
          "name": "stdout"
        }
      ]
    },
    {
      "cell_type": "markdown",
      "metadata": {
        "id": "RAkjZ-0w48dX"
      },
      "source": [
        "# ***Funções***\n",
        "\n",
        "---\n",
        "\n"
      ]
    },
    {
      "cell_type": "markdown",
      "metadata": {
        "id": "FcCmqW9r5Bmq"
      },
      "source": [
        "### Função sem parâmetro e sem retorno"
      ]
    },
    {
      "cell_type": "code",
      "metadata": {
        "id": "IvueO-ep5CHf"
      },
      "source": [
        "def mensagem():\n",
        "  print('Texto')"
      ],
      "execution_count": 18,
      "outputs": []
    },
    {
      "cell_type": "code",
      "metadata": {
        "colab": {
          "base_uri": "https://localhost:8080/"
        },
        "id": "94sHkUQ5_Coj",
        "outputId": "4abbe842-7f22-46de-b11e-dd6cd6b37b4f"
      },
      "source": [
        "mensagem()\n",
        "mensagem()\n",
        "mensagem()\n",
        "mensagem()"
      ],
      "execution_count": 20,
      "outputs": [
        {
          "output_type": "stream",
          "text": [
            "Texto\n",
            "Texto\n",
            "Texto\n",
            "Texto\n"
          ],
          "name": "stdout"
        }
      ]
    },
    {
      "cell_type": "markdown",
      "metadata": {
        "id": "PTrJIXsY5Cif"
      },
      "source": [
        "### Função com passagem de parâmetro"
      ]
    },
    {
      "cell_type": "code",
      "metadata": {
        "id": "Zx91OUmR5C1B"
      },
      "source": [
        "def mensagem(texto):\n",
        "  print(texto)"
      ],
      "execution_count": 21,
      "outputs": []
    },
    {
      "cell_type": "code",
      "metadata": {
        "colab": {
          "base_uri": "https://localhost:8080/"
        },
        "id": "eGNJNuAKAaKT",
        "outputId": "6505f6d0-bb95-4127-a077-b353b933d8a3"
      },
      "source": [
        "mensagem('aro')"
      ],
      "execution_count": 22,
      "outputs": [
        {
          "output_type": "stream",
          "text": [
            "aro\n"
          ],
          "name": "stdout"
        }
      ]
    },
    {
      "cell_type": "code",
      "metadata": {
        "colab": {
          "base_uri": "https://localhost:8080/"
        },
        "id": "CrYaUhUHAdK1",
        "outputId": "e82c7a99-b170-449e-fd4e-c9e452213dce"
      },
      "source": [
        "mensagem(2)"
      ],
      "execution_count": 23,
      "outputs": [
        {
          "output_type": "stream",
          "text": [
            "2\n"
          ],
          "name": "stdout"
        }
      ]
    },
    {
      "cell_type": "code",
      "metadata": {
        "id": "skru6YeaAvG8"
      },
      "source": [
        "def soma(a, b):\n",
        "  print(a+b)"
      ],
      "execution_count": 24,
      "outputs": []
    },
    {
      "cell_type": "code",
      "metadata": {
        "colab": {
          "base_uri": "https://localhost:8080/"
        },
        "id": "Xq7WWUq-AzMg",
        "outputId": "d7b22a17-cc0e-444b-bd6b-d49d8905efef"
      },
      "source": [
        "soma(2, 3)"
      ],
      "execution_count": 25,
      "outputs": [
        {
          "output_type": "stream",
          "text": [
            "5\n"
          ],
          "name": "stdout"
        }
      ]
    },
    {
      "cell_type": "code",
      "metadata": {
        "colab": {
          "base_uri": "https://localhost:8080/"
        },
        "id": "5_fgnrAyA0tB",
        "outputId": "7a1f4d27-6729-4922-bcf5-b85553c07ad8"
      },
      "source": [
        "soma('aro', 'zu')"
      ],
      "execution_count": 26,
      "outputs": [
        {
          "output_type": "stream",
          "text": [
            "arozu\n"
          ],
          "name": "stdout"
        }
      ]
    },
    {
      "cell_type": "markdown",
      "metadata": {
        "id": "e2UDmYgY5DK5"
      },
      "source": [
        "### Função com passagem de parâmetro e retorno"
      ]
    },
    {
      "cell_type": "code",
      "metadata": {
        "id": "xXNAJrta5Dqv"
      },
      "source": [
        "def soma(a, b):\n",
        "  return a+b"
      ],
      "execution_count": 27,
      "outputs": []
    },
    {
      "cell_type": "code",
      "metadata": {
        "colab": {
          "base_uri": "https://localhost:8080/"
        },
        "id": "De14WXCcBBe3",
        "outputId": "d2256a78-5341-45aa-c1e0-ed14fc85261a"
      },
      "source": [
        "soma(3, 2)"
      ],
      "execution_count": 28,
      "outputs": [
        {
          "output_type": "execute_result",
          "data": {
            "text/plain": [
              "5"
            ]
          },
          "metadata": {
            "tags": []
          },
          "execution_count": 28
        }
      ]
    },
    {
      "cell_type": "code",
      "metadata": {
        "colab": {
          "base_uri": "https://localhost:8080/"
        },
        "id": "2aKtoHtABH97",
        "outputId": "66ed0d3c-9fdf-435c-d6e2-159aa2b5f793"
      },
      "source": [
        "r = soma(3, 2)\n",
        "\n",
        "print(r)"
      ],
      "execution_count": 29,
      "outputs": [
        {
          "output_type": "stream",
          "text": [
            "5\n"
          ],
          "name": "stdout"
        }
      ]
    },
    {
      "cell_type": "markdown",
      "metadata": {
        "id": "eLHFcb91BzhB"
      },
      "source": [
        "Ao usar o formato:\n",
        "\n",
        "' ' '\n",
        "\n",
        "exemplo\n",
        "\n",
        "' ' '\n",
        "\n",
        "A função recebe uma descrição"
      ]
    },
    {
      "cell_type": "code",
      "metadata": {
        "id": "S0BIcP_TBXyU"
      },
      "source": [
        "def energiaPotGravitacional(m, h, g = 10):\n",
        "  \n",
        "  '''\n",
        "  Calcula a energia potencial gravitacional\n",
        "\n",
        "  Recebe como parâmetros:\n",
        "  m: massa (float)\n",
        "  h: altura (float)\n",
        "\n",
        "  Parâmetro opcional:\n",
        "  g: aceleração gravitacional, por padrão é 10\n",
        "  '''\n",
        "\n",
        "  e = g*m*h\n",
        "\n",
        "  return e"
      ],
      "execution_count": 33,
      "outputs": []
    },
    {
      "cell_type": "code",
      "metadata": {
        "colab": {
          "base_uri": "https://localhost:8080/"
        },
        "id": "dxPBzc2WBnfc",
        "outputId": "3e2c0c7e-edca-4a3a-8562-2f198bbdf550"
      },
      "source": [
        "energiaPotGravitacional(30, 12)"
      ],
      "execution_count": 31,
      "outputs": [
        {
          "output_type": "execute_result",
          "data": {
            "text/plain": [
              "3600"
            ]
          },
          "metadata": {
            "tags": []
          },
          "execution_count": 31
        }
      ]
    },
    {
      "cell_type": "code",
      "metadata": {
        "colab": {
          "base_uri": "https://localhost:8080/"
        },
        "id": "xF0PSQwTBr_-",
        "outputId": "5e24308e-2b6e-4b86-a899-c938bff95776"
      },
      "source": [
        "energiaPotGravitacional(30, 12, 9.8)"
      ],
      "execution_count": 32,
      "outputs": [
        {
          "output_type": "execute_result",
          "data": {
            "text/plain": [
              "3528.0"
            ]
          },
          "metadata": {
            "tags": []
          },
          "execution_count": 32
        }
      ]
    },
    {
      "cell_type": "code",
      "metadata": {
        "colab": {
          "base_uri": "https://localhost:8080/"
        },
        "id": "L6TF5RBJBulI",
        "outputId": "7d0f6e26-5df3-411b-8c9a-097781d78f2b"
      },
      "source": [
        "# acessando descrição da função\n",
        "\n",
        "help(energiaPotGravitacional)"
      ],
      "execution_count": 34,
      "outputs": [
        {
          "output_type": "stream",
          "text": [
            "Help on function energiaPotGravitacional in module __main__:\n",
            "\n",
            "energiaPotGravitacional(m, h, g=10)\n",
            "    Calcula a energia potencial gravitacional\n",
            "    \n",
            "    Recebe como parâmetros:\n",
            "    m: massa (float)\n",
            "    h: altura (float)\n",
            "    \n",
            "    Parâmetro opcional:\n",
            "    g: aceleração gravitacional, por padrão é 10\n",
            "\n"
          ],
          "name": "stdout"
        }
      ]
    },
    {
      "cell_type": "markdown",
      "metadata": {
        "id": "-j8sx6tV5D-H"
      },
      "source": [
        "# ***Tratamento de erros e exceções***\n",
        "\n",
        "---\n",
        "\n"
      ]
    },
    {
      "cell_type": "markdown",
      "metadata": {
        "id": "KCIwGZQf5JmH"
      },
      "source": [
        "\n",
        "\n",
        "*   NameError: variável não foi definida\n",
        "*   TypeError: tipos de dados incompatíveis\n",
        "*   RuntimeError: erro de execução\n",
        "*   SyntaxError: sintaxe digitada é inválida e não reconhecida pelo interpretador\n",
        "*   ZeroDivisionError: divisão por zero\n",
        "*   IndexError: índice está fora do range\n",
        "\n"
      ]
    },
    {
      "cell_type": "markdown",
      "metadata": {
        "id": "Wp_h7buaMLae"
      },
      "source": [
        "### Tipos de erros"
      ]
    },
    {
      "cell_type": "markdown",
      "metadata": {
        "id": "lbxNDxeWP4fT"
      },
      "source": [
        "SyntaxError"
      ]
    },
    {
      "cell_type": "code",
      "metadata": {
        "id": "LYis3zVt5J3H",
        "colab": {
          "base_uri": "https://localhost:8080/",
          "height": 129
        },
        "outputId": "ccaf3864-52a6-447f-ac9d-6c8ced9837b3"
      },
      "source": [
        "3 = 4"
      ],
      "execution_count": 71,
      "outputs": [
        {
          "output_type": "error",
          "ename": "SyntaxError",
          "evalue": "ignored",
          "traceback": [
            "\u001b[0;36m  File \u001b[0;32m\"<ipython-input-71-effb9ca1a7d0>\"\u001b[0;36m, line \u001b[0;32m1\u001b[0m\n\u001b[0;31m    3 = 4\u001b[0m\n\u001b[0m         ^\u001b[0m\n\u001b[0;31mSyntaxError\u001b[0m\u001b[0;31m:\u001b[0m can't assign to literal\n"
          ]
        }
      ]
    },
    {
      "cell_type": "markdown",
      "metadata": {
        "id": "8L6jTR4eP_Ub"
      },
      "source": [
        "NameError"
      ]
    },
    {
      "cell_type": "code",
      "metadata": {
        "colab": {
          "base_uri": "https://localhost:8080/",
          "height": 163
        },
        "id": "DtgdWhhdPye9",
        "outputId": "8e941983-e3b4-4905-899b-93d0adab146e"
      },
      "source": [
        "print('Meu nome eh:', nome)"
      ],
      "execution_count": 72,
      "outputs": [
        {
          "output_type": "error",
          "ename": "NameError",
          "evalue": "ignored",
          "traceback": [
            "\u001b[0;31m---------------------------------------------------------------------------\u001b[0m",
            "\u001b[0;31mNameError\u001b[0m                                 Traceback (most recent call last)",
            "\u001b[0;32m<ipython-input-72-7aec027368c5>\u001b[0m in \u001b[0;36m<module>\u001b[0;34m()\u001b[0m\n\u001b[0;32m----> 1\u001b[0;31m \u001b[0mprint\u001b[0m\u001b[0;34m(\u001b[0m\u001b[0;34m'Meu nome eh:'\u001b[0m\u001b[0;34m,\u001b[0m \u001b[0mnome\u001b[0m\u001b[0;34m)\u001b[0m\u001b[0;34m\u001b[0m\u001b[0;34m\u001b[0m\u001b[0m\n\u001b[0m",
            "\u001b[0;31mNameError\u001b[0m: name 'nome' is not defined"
          ]
        }
      ]
    },
    {
      "cell_type": "markdown",
      "metadata": {
        "id": "xQOEOPd9Qqmb"
      },
      "source": [
        "ZeroDivisionError"
      ]
    },
    {
      "cell_type": "code",
      "metadata": {
        "colab": {
          "base_uri": "https://localhost:8080/",
          "height": 163
        },
        "id": "aoSObmh-QRUZ",
        "outputId": "76eecd67-b283-4a9d-e92d-823646d43ad9"
      },
      "source": [
        "print(3/0)"
      ],
      "execution_count": 73,
      "outputs": [
        {
          "output_type": "error",
          "ename": "ZeroDivisionError",
          "evalue": "ignored",
          "traceback": [
            "\u001b[0;31m---------------------------------------------------------------------------\u001b[0m",
            "\u001b[0;31mZeroDivisionError\u001b[0m                         Traceback (most recent call last)",
            "\u001b[0;32m<ipython-input-73-01a2217119a3>\u001b[0m in \u001b[0;36m<module>\u001b[0;34m()\u001b[0m\n\u001b[0;32m----> 1\u001b[0;31m \u001b[0mprint\u001b[0m\u001b[0;34m(\u001b[0m\u001b[0;36m3\u001b[0m\u001b[0;34m/\u001b[0m\u001b[0;36m0\u001b[0m\u001b[0;34m)\u001b[0m\u001b[0;34m\u001b[0m\u001b[0;34m\u001b[0m\u001b[0m\n\u001b[0m",
            "\u001b[0;31mZeroDivisionError\u001b[0m: division by zero"
          ]
        }
      ]
    },
    {
      "cell_type": "markdown",
      "metadata": {
        "id": "pruhLbFLQtbr"
      },
      "source": [
        "TypeError"
      ]
    },
    {
      "cell_type": "code",
      "metadata": {
        "colab": {
          "base_uri": "https://localhost:8080/",
          "height": 163
        },
        "id": "xBJJ6-S_QS65",
        "outputId": "8b81cdaa-84f7-4bfe-bcd5-09f02e03d5ac"
      },
      "source": [
        "2.3/'cachorro'"
      ],
      "execution_count": 74,
      "outputs": [
        {
          "output_type": "error",
          "ename": "TypeError",
          "evalue": "ignored",
          "traceback": [
            "\u001b[0;31m---------------------------------------------------------------------------\u001b[0m",
            "\u001b[0;31mTypeError\u001b[0m                                 Traceback (most recent call last)",
            "\u001b[0;32m<ipython-input-74-dc109cf193a0>\u001b[0m in \u001b[0;36m<module>\u001b[0;34m()\u001b[0m\n\u001b[0;32m----> 1\u001b[0;31m \u001b[0;36m2.3\u001b[0m\u001b[0;34m/\u001b[0m\u001b[0;34m'cachorro'\u001b[0m\u001b[0;34m\u001b[0m\u001b[0;34m\u001b[0m\u001b[0m\n\u001b[0m",
            "\u001b[0;31mTypeError\u001b[0m: unsupported operand type(s) for /: 'float' and 'str'"
          ]
        }
      ]
    },
    {
      "cell_type": "markdown",
      "metadata": {
        "id": "4pzsbd-tQvbb"
      },
      "source": [
        "IndexError"
      ]
    },
    {
      "cell_type": "code",
      "metadata": {
        "colab": {
          "base_uri": "https://localhost:8080/",
          "height": 197
        },
        "id": "Y4xSMawmQXP7",
        "outputId": "7c672a2c-166a-428d-b730-5fe186a99940"
      },
      "source": [
        "c = [1, 2, 3, 4, 5]\n",
        "\n",
        "c[6]"
      ],
      "execution_count": 75,
      "outputs": [
        {
          "output_type": "error",
          "ename": "IndexError",
          "evalue": "ignored",
          "traceback": [
            "\u001b[0;31m---------------------------------------------------------------------------\u001b[0m",
            "\u001b[0;31mIndexError\u001b[0m                                Traceback (most recent call last)",
            "\u001b[0;32m<ipython-input-75-f5e2a39759e4>\u001b[0m in \u001b[0;36m<module>\u001b[0;34m()\u001b[0m\n\u001b[1;32m      1\u001b[0m \u001b[0mc\u001b[0m \u001b[0;34m=\u001b[0m \u001b[0;34m[\u001b[0m\u001b[0;36m1\u001b[0m\u001b[0;34m,\u001b[0m \u001b[0;36m2\u001b[0m\u001b[0;34m,\u001b[0m \u001b[0;36m3\u001b[0m\u001b[0;34m,\u001b[0m \u001b[0;36m4\u001b[0m\u001b[0;34m,\u001b[0m \u001b[0;36m5\u001b[0m\u001b[0;34m]\u001b[0m\u001b[0;34m\u001b[0m\u001b[0;34m\u001b[0m\u001b[0m\n\u001b[1;32m      2\u001b[0m \u001b[0;34m\u001b[0m\u001b[0m\n\u001b[0;32m----> 3\u001b[0;31m \u001b[0mc\u001b[0m\u001b[0;34m[\u001b[0m\u001b[0;36m6\u001b[0m\u001b[0;34m]\u001b[0m\u001b[0;34m\u001b[0m\u001b[0;34m\u001b[0m\u001b[0m\n\u001b[0m",
            "\u001b[0;31mIndexError\u001b[0m: list index out of range"
          ]
        }
      ]
    },
    {
      "cell_type": "markdown",
      "metadata": {
        "id": "oVAUNfhC5KKX"
      },
      "source": [
        "### Tratamento de erros"
      ]
    },
    {
      "cell_type": "code",
      "metadata": {
        "id": "10ZisXv45Kdf",
        "colab": {
          "base_uri": "https://localhost:8080/"
        },
        "outputId": "f561f8f9-19d8-40e8-9939-4a7bbff5006d"
      },
      "source": [
        "try:\n",
        "  n = int(input('Digite um numero inteiro: '))\n",
        "\n",
        "except:\n",
        "  print('Valor invalido')\n",
        "\n",
        "else:\n",
        "  print(f'Valor digitado eh: {n}')"
      ],
      "execution_count": 76,
      "outputs": [
        {
          "output_type": "stream",
          "text": [
            "Digite um numero inteiro: a\n",
            "Valor invalido\n"
          ],
          "name": "stdout"
        }
      ]
    },
    {
      "cell_type": "code",
      "metadata": {
        "colab": {
          "base_uri": "https://localhost:8080/"
        },
        "id": "Iq5aDX-NRbDs",
        "outputId": "e7e24cca-986d-483e-be12-78029b64d15c"
      },
      "source": [
        "while True:\n",
        "  try:\n",
        "    n = int(input('Digite um numero inteiro: '))\n",
        "\n",
        "  except:\n",
        "    print('Valor invalido')\n",
        "\n",
        "  else:\n",
        "    print(f'Valor digitado eh: {n}')\n",
        "    break # parar quando valor for correto"
      ],
      "execution_count": 78,
      "outputs": [
        {
          "output_type": "stream",
          "text": [
            "Digite um numero inteiro: a\n",
            "Valor invalido\n",
            "Digite um numero inteiro: b\n",
            "Valor invalido\n",
            "Digite um numero inteiro: kkk\n",
            "Valor invalido\n",
            "Digite um numero inteiro: 1.5\n",
            "Valor invalido\n",
            "Digite um numero inteiro: 2\n",
            "Valor digitado eh: 2\n"
          ],
          "name": "stdout"
        }
      ]
    },
    {
      "cell_type": "code",
      "metadata": {
        "colab": {
          "base_uri": "https://localhost:8080/"
        },
        "id": "s32uyokARt2k",
        "outputId": "dba69fcd-cdf0-49af-d7ac-36608110f4fd"
      },
      "source": [
        "while True:\n",
        "  try:\n",
        "    p = int(input('Digite um numero inteiro: '))\n",
        "  \n",
        "  except ValueError:\n",
        "    print('Valor invalido')\n",
        "\n",
        "  except KeyboardInterrupt:\n",
        "    print('Usuario interrompeu a execucao')\n",
        "    break\n",
        "\n",
        "  else:\n",
        "    print(f'Valor digitado eh: {n}')\n",
        "    break"
      ],
      "execution_count": 80,
      "outputs": [
        {
          "output_type": "stream",
          "text": [
            "Digite um numero inteiro: asdsa\n",
            "Valor invalido\n",
            "Digite um numero inteiro: v\n",
            "Valor invalido\n",
            "Digite um numero inteiro: 15.5\n",
            "Valor invalido\n",
            "Digite um numero inteiro: 2\n",
            "Valor digitado eh: 2\n"
          ],
          "name": "stdout"
        }
      ]
    },
    {
      "cell_type": "markdown",
      "metadata": {
        "id": "rLKL5FHL5Lmn"
      },
      "source": [
        "# ***Manipulação de arquivos de texto***\n",
        "\n",
        "---\n",
        "\n"
      ]
    },
    {
      "cell_type": "markdown",
      "metadata": {
        "id": "Zb7K9Qs45Phf"
      },
      "source": [
        "Abrindo arquivo e printando seu conteúdo"
      ]
    },
    {
      "cell_type": "code",
      "metadata": {
        "id": "L9gMOrmq5P2f",
        "colab": {
          "base_uri": "https://localhost:8080/"
        },
        "outputId": "73dcccac-7cf0-4a89-dff9-493791bf8215"
      },
      "source": [
        "with open('/content/teste.txt') as texto:\n",
        "\n",
        "  for linha in texto:\n",
        "    print(linha)"
      ],
      "execution_count": 82,
      "outputs": [
        {
          "output_type": "stream",
          "text": [
            "aro\n",
            "\n",
            "\n",
            "\n",
            "yes\n",
            "\n",
            "and what?\n",
            "\n",
            "and yes\n",
            "\n",
            "\n",
            "\n",
            "xauzu\n"
          ],
          "name": "stdout"
        }
      ]
    },
    {
      "cell_type": "markdown",
      "metadata": {
        "id": "qjIftlKdTeYo"
      },
      "source": [
        "Colocando conteúdo do arquivo em uma lista"
      ]
    },
    {
      "cell_type": "code",
      "metadata": {
        "colab": {
          "base_uri": "https://localhost:8080/"
        },
        "id": "ioyBop0JTQA9",
        "outputId": "e0146585-b33d-4fc5-c83b-10b41ce8275c"
      },
      "source": [
        "with open('/content/teste.txt') as texto:\n",
        "\n",
        "  r = texto.readlines()\n",
        "\n",
        "print(r)"
      ],
      "execution_count": 83,
      "outputs": [
        {
          "output_type": "stream",
          "text": [
            "['aro\\n', '\\n', 'yes\\n', 'and what?\\n', 'and yes\\n', '\\n', 'xauzu']\n"
          ],
          "name": "stdout"
        }
      ]
    },
    {
      "cell_type": "markdown",
      "metadata": {
        "id": "-uoxMY4wTv1w"
      },
      "source": [
        "Escrevendo um arquivo"
      ]
    },
    {
      "cell_type": "code",
      "metadata": {
        "id": "hQZbwPwaTqZy"
      },
      "source": [
        "with open('/content/teste2.txt', 'w') as texto2:\n",
        "  texto2.write('aro')"
      ],
      "execution_count": 86,
      "outputs": []
    },
    {
      "cell_type": "markdown",
      "metadata": {
        "id": "ixPhkGjR5R4H"
      },
      "source": [
        "# ***Expressões regulares***\n",
        "\n",
        "---\n",
        "\n"
      ]
    },
    {
      "cell_type": "markdown",
      "metadata": {
        "id": "X26A1boj5dNn"
      },
      "source": [
        "##Busca por padrões em strings:\n",
        "\n",
        "Exemplos:\n",
        "\n",
        "* Palavras que começam com letras maiúculas ou minúsculas\n",
        "* Palavras que começam com letra maiúscula e terminam com letra minúscula\n",
        "* Palavras que começam com 'a' e terminam com 'e'\n",
        "* Procurar e-mails, números de telefone, CEPs, etc\n",
        "* Palavras que começam com vogais e terminam com consoantes\n",
        "* Palavras que possuem de 5 a 9 letras\n",
        "* Extrair trechos separados por ponto '.'"
      ]
    },
    {
      "cell_type": "markdown",
      "metadata": {
        "id": "9qKyH7yGoHhy"
      },
      "source": [
        "##Metacaracteres:\n",
        "\n",
        "* '.' : Qualquer caractere (exceto linha nova) - usado para encontrar qualquer caractere\n",
        "* '\\w' : Qualquer caractere alfanumético\n",
        "* '\\W' : Qualquer caractere não-alfanumérico\n",
        "* '\\d' : Qualquer caractere que seja um dígito (0-9)\n",
        "* '\\D' : Qualquer caractere que não seja um dígito\n",
        "* '\\s' : Espaço em branco (encontrar espaços em brancos num texto\n",
        "* '^' : Começa com (encontrar palavras que começam com determinada letra)\n",
        "* '$' : Termina com (encontrar palavras que terminam com determinada letra)\n",
        "* '\\' : Usada antes de metacaracteres para especificar seu significado literal (por exemplo, quando usamos o ponto (.), estamos procurando qualquer caractere, porém ao usar \\., estamos procurando o ponto em si)"
      ]
    },
    {
      "cell_type": "markdown",
      "metadata": {
        "id": "X3lmcNohp5DK"
      },
      "source": [
        "##Quantificadores\n",
        "\n",
        "Permitem determinar como e quantas vezes os metacaracteres aparecem\n",
        "\n",
        "* [  ] : Padrão opcional - exemplo: 'a' e 'b', a string pode ter a letra 'a' ou a letra 'b'\n",
        "* ( ) : Captura grupos de caracteres\n",
        "* ' * ' : De zero a mais vezes (*a - a letra 'a' aparece 0 ou mais vezes)\n",
        "* ? : Zero ou uma vez (?a - a letra 'a' aparece 0 ou somente uma vez)\n",
        "* '+' : Uma ou mais vezes (+a - a letra 'a' aparece obrigatoriamente pelo menos uma vez)\n",
        "* {m, n} : De m a n vezes\n",
        "* | : Ou"
      ]
    },
    {
      "cell_type": "markdown",
      "metadata": {
        "id": "Ev813SoSrSeh"
      },
      "source": [
        "###Exemplo:\n",
        "\n",
        "* Expressão regular que detecta e-mails:\n",
        "\n",
        "luana_brasil@hotmail.com\n",
        "\n",
        "flapjack0724@gmail.com\n",
        "\n",
        "luana.brasil@aluno.uece.br\n",
        "\n",
        "\\w+@+\\w+\\\\.w+ : Qualquer caractere alfanumérico uma ou mais vezes, em sequência um @ e em seguida outro caractere alfanumérico uma ou mais vezes, logo em seguida um ponto e terminando com outro caractere alfanumérico uma ou mais vezes.\n"
      ]
    },
    {
      "cell_type": "markdown",
      "metadata": {
        "id": "TZpgVxmGniQE"
      },
      "source": [
        "Método search: encontra padrões dentro de uma string, se estes estiverem presentes"
      ]
    },
    {
      "cell_type": "code",
      "metadata": {
        "id": "1E2bs9O05dbY"
      },
      "source": [
        "import re"
      ],
      "execution_count": 9,
      "outputs": []
    },
    {
      "cell_type": "code",
      "metadata": {
        "id": "-3touQw7smfK"
      },
      "source": [
        "frase = 'Olá, meu número de telefone é (85)1234-5678'\n",
        "frase2 = 'A placa de carro que anotei durante o acidente foi NRE-1234'\n",
        "frase3 = 'Entre em contato, meu e-mail é luanabrasil@hotmail.com'"
      ],
      "execution_count": 23,
      "outputs": []
    },
    {
      "cell_type": "code",
      "metadata": {
        "colab": {
          "base_uri": "https://localhost:8080/"
        },
        "id": "G3eOCYFWs_dX",
        "outputId": "7572ced9-2843-48b6-b33a-4f13e4821f3e"
      },
      "source": [
        "# procurando numero de telefone\n",
        "re.search('\\(\\d{2}\\)\\d{4,5}-\\d{4}', frase)"
      ],
      "execution_count": 12,
      "outputs": [
        {
          "output_type": "execute_result",
          "data": {
            "text/plain": [
              "<_sre.SRE_Match object; span=(30, 43), match='(85)1234-5678'>"
            ]
          },
          "metadata": {
            "tags": []
          },
          "execution_count": 12
        }
      ]
    },
    {
      "cell_type": "code",
      "metadata": {
        "colab": {
          "base_uri": "https://localhost:8080/"
        },
        "id": "CA2UvgiHtyhj",
        "outputId": "2d780293-f983-468b-904a-ca96d960c7f1"
      },
      "source": [
        "# procurando placa do carro\n",
        "re.search('[A-Za-z]{3}-\\d{4}', frase2)"
      ],
      "execution_count": 15,
      "outputs": [
        {
          "output_type": "execute_result",
          "data": {
            "text/plain": [
              "<_sre.SRE_Match object; span=(51, 59), match='NRE-1234'>"
            ]
          },
          "metadata": {
            "tags": []
          },
          "execution_count": 15
        }
      ]
    },
    {
      "cell_type": "code",
      "metadata": {
        "colab": {
          "base_uri": "https://localhost:8080/"
        },
        "id": "H4PGTul-uVj7",
        "outputId": "d3bae6f7-6236-4a80-89ea-19b549201b6d"
      },
      "source": [
        "# procurando e-mail\n",
        "re.search('\\w+@\\w+\\.com', frase3)"
      ],
      "execution_count": 25,
      "outputs": [
        {
          "output_type": "execute_result",
          "data": {
            "text/plain": [
              "<_sre.SRE_Match object; span=(31, 54), match='luanabrasil@hotmail.com'>"
            ]
          },
          "metadata": {
            "tags": []
          },
          "execution_count": 25
        }
      ]
    },
    {
      "cell_type": "markdown",
      "metadata": {
        "id": "jt-3o8X_5dxP"
      },
      "source": [
        "Método match: encontra se o começo de uma string é igual a um determinado padrão"
      ]
    },
    {
      "cell_type": "code",
      "metadata": {
        "id": "KBsqUF9z5eB3"
      },
      "source": [
        "frase = 'Olá, meu número de telefone é (85) 1234-5678'\n",
        "frase2 = 'A placa de carro que anotei durante o acidente foi NRE-1234'\n",
        "frase3 = 'Entre em contato, meu e-mail é luanabrasil@hotmail.com'"
      ],
      "execution_count": 33,
      "outputs": []
    },
    {
      "cell_type": "code",
      "metadata": {
        "colab": {
          "base_uri": "https://localhost:8080/"
        },
        "id": "L4Zgve8avQ88",
        "outputId": "6c03a287-0bee-49a1-a8eb-a25257265498"
      },
      "source": [
        "print(re.match('[A-Za-z]{3}-\\d{4}', frase2))"
      ],
      "execution_count": 34,
      "outputs": [
        {
          "output_type": "stream",
          "text": [
            "None\n"
          ],
          "name": "stdout"
        }
      ]
    },
    {
      "cell_type": "markdown",
      "metadata": {
        "id": "rBZGnaK35eOH"
      },
      "source": [
        "Método findall: encontra todas as substrings em uma string que correspondam a um padrão"
      ]
    },
    {
      "cell_type": "code",
      "metadata": {
        "id": "qpEszpqV5ejQ"
      },
      "source": [
        "frase3 = 'Meu número de telefone atual é (42)0000-0000. O número (56)1111-1111 é o antigo'"
      ],
      "execution_count": 37,
      "outputs": []
    },
    {
      "cell_type": "code",
      "metadata": {
        "colab": {
          "base_uri": "https://localhost:8080/"
        },
        "id": "-hcL4vR9vgE3",
        "outputId": "c1104d81-a91a-4fae-e580-a9cfc9f774a9"
      },
      "source": [
        "re.findall('\\(\\d{2}\\)\\d{4,5}-\\d{4}', frase3)"
      ],
      "execution_count": 38,
      "outputs": [
        {
          "output_type": "execute_result",
          "data": {
            "text/plain": [
              "['(42)0000-0000', '(56)1111-1111']"
            ]
          },
          "metadata": {
            "tags": []
          },
          "execution_count": 38
        }
      ]
    },
    {
      "cell_type": "markdown",
      "metadata": {
        "id": "ziVqFqxG5eyX"
      },
      "source": [
        "# ***Orientação a objetos***\n",
        "\n",
        "---\n",
        "\n"
      ]
    },
    {
      "cell_type": "markdown",
      "metadata": {
        "id": "TcoQc8ny5i2X"
      },
      "source": [
        "Criando uma classe"
      ]
    },
    {
      "cell_type": "code",
      "metadata": {
        "id": "HpuBxoRf5jO3"
      },
      "source": [
        "# classe para armazenar informacoes sobre um triangulo\n",
        "class Triangulo:\n",
        "  # __init__: construtor/funcao executada quando vc cria um objeto da classe\n",
        "  def __init__(self, lado1, lado2, lado3, base, altura):\n",
        "    self.lado1 = lado1\n",
        "    self.lado2 = lado2\n",
        "    self.lado3 = lado3\n",
        "    self.base = base\n",
        "    self.altura = altura\n",
        "\n",
        "  # metodo da classe para calcular a area do triangulo\n",
        "  def area(self):\n",
        "    return (self.base*self.altura)/2\n",
        "\n",
        "  # metodo da classe para verificar o tipo do triangulo\n",
        "  def tipo(self):\n",
        "    if self.lado1 > self.lado2 + self.lado3:\n",
        "      return 'Nao eh triangulo'\n",
        "\n",
        "    elif self.lado1 == self.lado2 or self.lado1 == self.lado3 or self.lado2 == self.lado3:\n",
        "      return 'Triangulo isosceles'\n",
        "\n",
        "    else:\n",
        "      return 'Outro tipo de triangulo'"
      ],
      "execution_count": 61,
      "outputs": []
    },
    {
      "cell_type": "markdown",
      "metadata": {
        "id": "Hr6FbLvd1dLs"
      },
      "source": [
        "Criando objetos do tipo Triangulo"
      ]
    },
    {
      "cell_type": "code",
      "metadata": {
        "colab": {
          "base_uri": "https://localhost:8080/"
        },
        "id": "5enOvCrz0jrE",
        "outputId": "3220cd1d-3425-4cc4-bb49-63c44a7bd822"
      },
      "source": [
        "t1 = Triangulo(2, 1, 3, 4, 5)\n",
        "\n",
        "print(t1.lado1, t1.lado2, t1.lado3, t1.base, t1.altura)"
      ],
      "execution_count": 62,
      "outputs": [
        {
          "output_type": "stream",
          "text": [
            "2 1 3 4 5\n"
          ],
          "name": "stdout"
        }
      ]
    },
    {
      "cell_type": "code",
      "metadata": {
        "colab": {
          "base_uri": "https://localhost:8080/"
        },
        "id": "JIY1HDMT09-j",
        "outputId": "aa6ce986-ccd2-481d-b13f-9510bb9407d3"
      },
      "source": [
        "t2 = Triangulo(8, 8, 8, 16, 9)\n",
        "\n",
        "print(t2.lado1, t2.lado2, t2.lado3, t2.base, t2.altura)"
      ],
      "execution_count": 63,
      "outputs": [
        {
          "output_type": "stream",
          "text": [
            "8 8 8 16 9\n"
          ],
          "name": "stdout"
        }
      ]
    },
    {
      "cell_type": "markdown",
      "metadata": {
        "id": "ozwNFKPK2E6S"
      },
      "source": [
        "Acessando método de calculo da área dos triângulos"
      ]
    },
    {
      "cell_type": "code",
      "metadata": {
        "colab": {
          "base_uri": "https://localhost:8080/"
        },
        "id": "MELnEJcZ1ErG",
        "outputId": "1e78344a-0159-4d9e-b955-49fc80f38414"
      },
      "source": [
        "print('A area do triangulo 1 eh: ', t1.area())\n",
        "print('A area do triangulo 2 eh: ', t2.area())"
      ],
      "execution_count": 64,
      "outputs": [
        {
          "output_type": "stream",
          "text": [
            "A area do triangulo 1 eh:  10.0\n",
            "A area do triangulo 2 eh:  72.0\n"
          ],
          "name": "stdout"
        }
      ]
    },
    {
      "cell_type": "markdown",
      "metadata": {
        "id": "N-WNJV9Y3Naa"
      },
      "source": [
        "Acessando método que retorna o tipo do triângulo"
      ]
    },
    {
      "cell_type": "code",
      "metadata": {
        "colab": {
          "base_uri": "https://localhost:8080/"
        },
        "id": "TP3PAzHH2RBI",
        "outputId": "3e88d89a-8da3-4168-d0c2-3cfe8d59f6d7"
      },
      "source": [
        "print('O tipo do triangulo 1 eh: ', t1.tipo())\n",
        "print('O tipo do triangulo 2 eh: ', t2.tipo())"
      ],
      "execution_count": 65,
      "outputs": [
        {
          "output_type": "stream",
          "text": [
            "O tipo do triangulo 1 eh:  Outro tipo de triangulo\n",
            "O tipo do triangulo 2 eh:  Triangulo isosceles\n"
          ],
          "name": "stdout"
        }
      ]
    }
  ]
}